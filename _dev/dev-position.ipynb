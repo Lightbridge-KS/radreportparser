{
 "cells": [
  {
   "cell_type": "markdown",
   "metadata": {},
   "source": [
    "# Dev: Position"
   ]
  },
  {
   "cell_type": "code",
   "execution_count": 1,
   "metadata": {},
   "outputs": [],
   "source": [
    "import re"
   ]
  },
  {
   "cell_type": "code",
   "execution_count": null,
   "metadata": {},
   "outputs": [],
   "source": [
    "def _find_start_position_greedy(\n",
    "    text: str,\n",
    "    keys: list[str] | None,\n",
    "    word_boundary: bool = False,\n",
    "    flags: re.RegexFlag = re.IGNORECASE,\n",
    "    verbose: bool = True,\n",
    ") -> tuple[int, int]:\n",
    "    \"\"\"Helper function to find start position of the section\"\"\"\n",
    "    if keys is None:\n",
    "        return 0, 0\n",
    "    # Warn if start pattern appears more than once\n",
    "    for key in keys:\n",
    "        x = re.findall(key, text, flags)\n",
    "        count = len(x)\n",
    "        if verbose and count >= 2:\n",
    "            print(\n",
    "                f\"Start pattern {key} appear {count} times in text, only the first one will be matched.\"\n",
    "            )\n",
    "\n",
    "    start_match = _pattern_keys(keys, word_boundary, flags).search(text)\n",
    "    if not start_match:\n",
    "        return -1, -1  # Indicate no match found\n",
    "    return start_match.start(), start_match.end()"
   ]
  }
 ],
 "metadata": {
  "kernelspec": {
   "display_name": "ds-env",
   "language": "python",
   "name": "python3"
  },
  "language_info": {
   "codemirror_mode": {
    "name": "ipython",
    "version": 3
   },
   "file_extension": ".py",
   "mimetype": "text/x-python",
   "name": "python",
   "nbconvert_exporter": "python",
   "pygments_lexer": "ipython3",
   "version": "3.12.2"
  }
 },
 "nbformat": 4,
 "nbformat_minor": 2
}
