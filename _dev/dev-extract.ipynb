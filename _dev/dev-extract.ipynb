{
 "cells": [
  {
   "cell_type": "markdown",
   "metadata": {},
   "source": [
    "# Dev: Extract"
   ]
  },
  {
   "cell_type": "code",
   "execution_count": 1,
   "metadata": {},
   "outputs": [],
   "source": [
    "import sys\n",
    "import os\n",
    "import re\n",
    "from pathlib import Path\n",
    "import pandas as pd\n",
    "from typing import List, Dict, Tuple, Optional\n",
    "\n",
    "from IPython.display import display_markdown, Image\n",
    "\n",
    "sys.path.insert(1, str(Path.cwd().parent)) \n",
    "\n",
    "from report.ex_snip import snip_hx_plain\n",
    "import radreportparser as rrp\n",
    "from radreportparser import (RadReportExtractor, \n",
    "                             SectionConfig,\n",
    "                             extract_section)"
   ]
  },
  {
   "cell_type": "code",
   "execution_count": 2,
   "metadata": {},
   "outputs": [],
   "source": [
    "extractor = RadReportExtractor()"
   ]
  },
  {
   "cell_type": "code",
   "execution_count": 3,
   "metadata": {},
   "outputs": [],
   "source": [
    "# Plain text\n",
    "snip_hx = {\n",
    "    ## Basic\n",
    "    \"basic\": \"\"\"\n",
    "MRI OF THE BRAIN AND ORBITS \n",
    "\n",
    "History: MALT lymphoma at the right orbit S/P chemotherapy was sent to follow-up. \n",
    "\n",
    "Technique: \n",
    "Sagittal SE T1W \n",
    "3D FSE FLAIR FS +Gd with MPR \n",
    "\n",
    "Comparison: Limited comparison to the MRI brain on 4-6-2022 \n",
    "\"\"\", \n",
    "    ## No newline\n",
    "    \"no_newline\": \"\"\"\n",
    "MDCT OF THE NECK   Indication: A 58-year-old man, known case of nasopharyngeal cancer (T4N2M1) with lung metastasis   Technique: Post contrast enhanced axial scan of the neck using 1.0 mm slice thickness with 3.0 mm axial, coronal and sagittal reformation   Comparison: The prior CT of the neck taken on October 4, 2015   Findings:  \tThe current study reveals slight shrinkage but no significant change in extension of the preexisting ill-defined hypodense lesion with partial mild enhancement in some portions, epicenter at the left-sided nasopharynx. Extension of the lesion is described as follow;  ... Superior: No interval change of extension into the left foramen Ovale and left inferior orbital fissure. No significant change of few enhancing foci in the left inferior temporal lobe.  ... Anterior: Involvement of the left infratemporal fossa, left PPF, left retroantral space, and left masticator space. Erosion and sclerotic change of the left pterygoid bone and posterior wall of the left maxillary sinus, unchanged.\n",
    "\"\"\",\n",
    "    ## Markdown\n",
    "    \"markdown\": \"\"\"\n",
    "**EMERGENCY MDCT OF THE BRAIN**\n",
    "\n",
    "**HISTORY:** A 25-year-old female presents with dizziness and brief loss of consciousness following a minor head impact 3 hours ago. Physical examination reveals no focal neurological deficits. The CT scan was requested to rule out intracranial hemorrhage.\n",
    "\n",
    "**TECHNIQUES:** Axial helical scan of the brain was performed using 2.5-mm (brain) and 1.25-mm (bone) slice thickness with coronal and sagittal reconstructions.  \n",
    "\n",
    "**COMPARISON:** None.\n",
    "\"\"\"\n",
    "}"
   ]
  },
  {
   "cell_type": "markdown",
   "metadata": {},
   "source": [
    "## `KeyWord` Enum"
   ]
  },
  {
   "cell_type": "code",
   "execution_count": 4,
   "metadata": {},
   "outputs": [],
   "source": [
    "from enum import Enum\n",
    "\n",
    "class KeyWord(Enum):\n",
    "    HISTORY = [\"history:\", \"\\\\*\\\\*history:\\\\*\\\\*\", \"indication\"]"
   ]
  },
  {
   "cell_type": "code",
   "execution_count": 5,
   "metadata": {},
   "outputs": [
    {
     "data": {
      "text/plain": [
       "['history:', '\\\\*\\\\*history:\\\\*\\\\*', 'indication']"
      ]
     },
     "execution_count": 5,
     "metadata": {},
     "output_type": "execute_result"
    }
   ],
   "source": [
    "KeyWord.HISTORY.value"
   ]
  },
  {
   "cell_type": "markdown",
   "metadata": {},
   "source": [
    "## Parse History"
   ]
  },
  {
   "cell_type": "code",
   "execution_count": 6,
   "metadata": {},
   "outputs": [
    {
     "data": {
      "text/plain": [
       "{'title': SectionConfig(name='title', start_keys=None, next_section_keys=['\\\\W*history\\\\W*', '\\\\W*indication(s?)\\\\W*', '\\\\W*clinical\\\\s+history\\\\W*', '\\\\W*clinical\\\\s+indication(s?)\\\\W*', '\\\\W*technique(s?)\\\\W*', '\\\\W*comparison(s?)\\\\W*', '\\\\W*Finding(s?)\\\\W*', '\\\\W*Impression(s?)\\\\W*']),\n",
       " 'history': SectionConfig(name='history', start_keys=['Hx'], next_section_keys=['technique', 'comparison']),\n",
       " 'technique': SectionConfig(name='technique', start_keys=['\\\\W*technique(s?)\\\\W*'], next_section_keys=['\\\\W*comparison(s?)\\\\W*', '\\\\W*Finding(s?)\\\\W*', '\\\\W*Impression(s?)\\\\W*']),\n",
       " 'comparison': SectionConfig(name='comparison', start_keys=['\\\\W*comparison(s?)\\\\W*'], next_section_keys=['\\\\W*technique(s?)\\\\W*', '\\\\W*Finding(s?)\\\\W*', '\\\\W*Impression(s?)\\\\W*']),\n",
       " 'findings': SectionConfig(name='findings', start_keys=['\\\\W*Finding(s?)\\\\W*'], next_section_keys=['\\\\W*Impression(s?)\\\\W*', '\\\\W*Report Severity\\\\W*', '\\\\W*Finalized Datetime\\\\W*', '\\\\W*Preliminary Datetime\\\\W*']),\n",
       " 'impression': SectionConfig(name='impression', start_keys=['\\\\W*Impression(s?)\\\\W*'], next_section_keys=['\\\\W*Report Severity\\\\W*', '\\\\W*Finalized Datetime\\\\W*', '\\\\W*Preliminary Datetime\\\\W*'])}"
      ]
     },
     "execution_count": 6,
     "metadata": {},
     "output_type": "execute_result"
    }
   ],
   "source": [
    "extractor.section_configs[\"history\"] = SectionConfig(\n",
    "    name=\"history\", start_keys=[\"Hx\"], \n",
    "    next_section_keys=[\"technique\", \"comparison\"]\n",
    ")\n",
    "\n",
    "extractor.section_configs"
   ]
  },
  {
   "cell_type": "code",
   "execution_count": 7,
   "metadata": {},
   "outputs": [
    {
     "data": {
      "text/plain": [
       "''"
      ]
     },
     "execution_count": 7,
     "metadata": {},
     "output_type": "execute_result"
    }
   ],
   "source": [
    "extractor.extract_history(snip_hx[\"basic\"], include_key=True)"
   ]
  },
  {
   "cell_type": "code",
   "execution_count": 8,
   "metadata": {},
   "outputs": [
    {
     "data": {
      "text/plain": [
       "''"
      ]
     },
     "execution_count": 8,
     "metadata": {},
     "output_type": "execute_result"
    }
   ],
   "source": [
    "\n",
    "extractor.extract_history(snip_hx[\"no_newline\"], include_key=True)\n",
    "\n",
    "\n",
    "extractor.extract_history(snip_hx[\"markdown\"], include_key=True)"
   ]
  },
  {
   "cell_type": "code",
   "execution_count": 9,
   "metadata": {},
   "outputs": [
    {
     "data": {
      "text/plain": [
       "'Axial helical scan of the brain was performed using 2.5-mm (brain) and 1.25-mm (bone) slice thickness with coronal and sagittal reconstructions'"
      ]
     },
     "execution_count": 9,
     "metadata": {},
     "output_type": "execute_result"
    }
   ],
   "source": [
    "extractor.extract_technique(snip_hx[\"markdown\"], include_key=False)"
   ]
  },
  {
   "cell_type": "code",
   "execution_count": 14,
   "metadata": {},
   "outputs": [
    {
     "data": {
      "text/plain": [
       "'MRI OF THE BRAIN AND ORBITS'"
      ]
     },
     "execution_count": 14,
     "metadata": {},
     "output_type": "execute_result"
    }
   ],
   "source": [
    "extractor.extract_title(snip_hx[\"basic\"], include_key=True)"
   ]
  },
  {
   "cell_type": "markdown",
   "metadata": {},
   "source": [
    "## Config"
   ]
  },
  {
   "cell_type": "code",
   "execution_count": 11,
   "metadata": {},
   "outputs": [],
   "source": [
    "from dataclasses import dataclass\n",
    "\n",
    "@dataclass\n",
    "class SectionConfig:\n",
    "    \"\"\"Configuration for a radiology report section.\n",
    "    \n",
    "    Parameters\n",
    "    ----------\n",
    "    name : str\n",
    "        Name of the section (e.g., \"history\", \"findings\")\n",
    "    start_keys : list[str]\n",
    "        Keys that mark the start of this section\n",
    "    next_section_keys : list[str] | None\n",
    "        Keys that mark the start of the next sections\n",
    "    \"\"\"\n",
    "    name: str\n",
    "    start_keys: List[str] | None\n",
    "    next_section_keys: Optional[List[str]] = None"
   ]
  },
  {
   "cell_type": "code",
   "execution_count": 12,
   "metadata": {},
   "outputs": [
    {
     "data": {
      "text/plain": [
       "SectionConfig(name='history', start_keys=['history'], next_section_keys=['technique', 'comparison', 'findings', 'impression'])"
      ]
     },
     "execution_count": 12,
     "metadata": {},
     "output_type": "execute_result"
    }
   ],
   "source": [
    "SectionConfig(name=\"history\", start_keys=[\"history\"], next_section_keys=[\"technique\", \"comparison\", \"findings\", \"impression\"])"
   ]
  },
  {
   "cell_type": "code",
   "execution_count": 13,
   "metadata": {},
   "outputs": [
    {
     "data": {
      "text/plain": [
       "['history']"
      ]
     },
     "execution_count": 13,
     "metadata": {},
     "output_type": "execute_result"
    }
   ],
   "source": [
    "section_configs = {\n",
    "            \"history\": SectionConfig(\n",
    "                name=\"history\",\n",
    "                start_keys=[\"history\"],\n",
    "                next_section_keys=[\"technique\", \"comparison\", \"findings\", \"impression\"]\n",
    "\n",
    "            )}\n",
    "\n",
    "section_configs.get(\"history\").start_keys"
   ]
  }
 ],
 "metadata": {
  "kernelspec": {
   "display_name": "llm-env",
   "language": "python",
   "name": "python3"
  },
  "language_info": {
   "codemirror_mode": {
    "name": "ipython",
    "version": 3
   },
   "file_extension": ".py",
   "mimetype": "text/x-python",
   "name": "python",
   "nbconvert_exporter": "python",
   "pygments_lexer": "ipython3",
   "version": "3.12.2"
  }
 },
 "nbformat": 4,
 "nbformat_minor": 2
}
