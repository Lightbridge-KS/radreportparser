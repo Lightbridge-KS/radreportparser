{
 "cells": [
  {
   "cell_type": "markdown",
   "metadata": {},
   "source": [
    "# Dev: Pattern & Keys"
   ]
  },
  {
   "cell_type": "code",
   "execution_count": 1,
   "metadata": {},
   "outputs": [],
   "source": [
    "import re"
   ]
  },
  {
   "cell_type": "code",
   "execution_count": 72,
   "metadata": {},
   "outputs": [],
   "source": [
    "from typing import Any"
   ]
  },
  {
   "cell_type": "markdown",
   "metadata": {},
   "source": [
    "## Pattern"
   ]
  },
  {
   "cell_type": "markdown",
   "metadata": {},
   "source": [
    "### `_pattern_start_keys()`"
   ]
  },
  {
   "cell_type": "markdown",
   "metadata": {},
   "source": [
    "- No word boundary: `(history).*?`\n",
    "- With word boundary: `\\b(history)\\b.*?`"
   ]
  },
  {
   "cell_type": "code",
   "execution_count": 447,
   "metadata": {},
   "outputs": [],
   "source": [
    "def _pattern_start_keys(\n",
    "    keys: list[str], \n",
    "    word_boundary: bool = True,\n",
    "    flags: re.RegexFlag = re.DOTALL | re.IGNORECASE\n",
    "    ) -> Any:\n",
    "    \"\"\"\n",
    "    Creates a regex pattern that matches the start of a string with any of the keys in the list.\n",
    "    \"\"\"\n",
    "    if word_boundary:\n",
    "        # \\b is a word boundary, which matches the position where a word starts or ends\n",
    "        pattern = rf\"\\b({'|'.join(keys)})\\b.*?\"\n",
    "    else:\n",
    "        # Regex pattern that matches any of the keys in the list\n",
    "        pattern = rf\"({'|'.join(keys)}).*?\"\n",
    "    return re.compile(pattern, flags = flags)\n"
   ]
  },
  {
   "cell_type": "code",
   "execution_count": 583,
   "metadata": {},
   "outputs": [
    {
     "data": {
      "text/plain": [
       "<re.Match object; span=(4, 11), match='hello: '>"
      ]
     },
     "execution_count": 583,
     "metadata": {},
     "output_type": "execute_result"
    }
   ],
   "source": [
    "p1 = _pattern_start_keys([r\"\\W*hello\\W*\", \"world\"], False)\n",
    "s1 = p1.search(\"vvvvhello: vvvv world vvvv\")\n",
    "s1"
   ]
  },
  {
   "cell_type": "markdown",
   "metadata": {},
   "source": [
    "### `_pattern_keys()`"
   ]
  },
  {
   "cell_type": "code",
   "execution_count": 587,
   "metadata": {},
   "outputs": [],
   "source": [
    "def _pattern_keys(\n",
    "    keys: list[str], \n",
    "    word_boundary: bool = True,\n",
    "    flags: re.RegexFlag = re.IGNORECASE\n",
    "    ) -> Any:\n",
    "    \"\"\"\n",
    "    Create regex pattern for matching given keys.\n",
    "    \"\"\"\n",
    "    if len(keys) == 0:\n",
    "        raise ValueError(\"keys must have at least one element\")\n",
    "    \n",
    "    if word_boundary:\n",
    "        # \\b is a word boundary, which matches the position where a word starts or ends\n",
    "        pattern = rf\"\\b({'|'.join(keys)})\\b\"\n",
    "    else:\n",
    "        # Regex pattern that matches any of the keys in the list\n",
    "        pattern = rf\"({'|'.join(keys)})\"\n",
    "    return re.compile(pattern, flags = flags)\n",
    "\n"
   ]
  },
  {
   "cell_type": "code",
   "execution_count": 589,
   "metadata": {},
   "outputs": [
    {
     "data": {
      "text/plain": [
       "<re.Match object; span=(1, 5), match='hist'>"
      ]
     },
     "execution_count": 589,
     "metadata": {},
     "output_type": "execute_result"
    }
   ],
   "source": [
    "pattern = _pattern_keys(['hist'], word_boundary=False)\n",
    "pattern.search('hhisttt')"
   ]
  },
  {
   "cell_type": "code",
   "execution_count": 590,
   "metadata": {},
   "outputs": [
    {
     "data": {
      "text/plain": [
       "<re.Match object; span=(0, 3), match='A--'>"
      ]
     },
     "execution_count": 590,
     "metadata": {},
     "output_type": "execute_result"
    }
   ],
   "source": [
    "pattern = _pattern_keys([r'a\\W*'], word_boundary=False)\n",
    "pattern.search('A--')"
   ]
  },
  {
   "cell_type": "markdown",
   "metadata": {},
   "source": [
    "### v1"
   ]
  },
  {
   "cell_type": "code",
   "execution_count": 518,
   "metadata": {},
   "outputs": [
    {
     "name": "stdout",
     "output_type": "stream",
     "text": [
      "A patient presented with these symptoms:\n",
      "- Chest Pain\n",
      "- Dyspnea\n"
     ]
    }
   ],
   "source": [
    "\n",
    "t_rep1 = \"\"\"\n",
    "History: A patient presented with these symptoms:\n",
    "- Chest Pain\n",
    "- Dyspnea\n",
    "\n",
    "technique: CT chest\n",
    "\n",
    "Comparison: None\n",
    "\"\"\"\n",
    "# Test it\n",
    "section = extract_section(t_rep1, \n",
    "                          start_keys=[\"History:\", \"indication\"], \n",
    "                          end_keys=[\"comparison\", \"technique\"], \n",
    "                          word_boundary= False,\n",
    "                          include_start_keys=False)\n",
    "print(section)"
   ]
  },
  {
   "cell_type": "code",
   "execution_count": 511,
   "metadata": {},
   "outputs": [
    {
     "name": "stdout",
     "output_type": "stream",
     "text": [
      "History: A patient presented with these symptoms:\n",
      "- Chest Pain\n",
      "- Dyspnea\n",
      "\n",
      "technique: CT chest\n",
      "\n",
      "Comparison: None\n"
     ]
    }
   ],
   "source": [
    "# No start key\n",
    "section = extract_section(t_rep1, \n",
    "                          start_keys=None, \n",
    "                          end_keys=None, \n",
    "                          word_boundary= False,\n",
    "                          include_start_keys=False)\n",
    "print(section)"
   ]
  },
  {
   "cell_type": "markdown",
   "metadata": {},
   "source": [
    "## Get Match"
   ]
  },
  {
   "cell_type": "markdown",
   "metadata": {},
   "source": [
    "### `_get_first_key_match()`"
   ]
  },
  {
   "cell_type": "code",
   "execution_count": 595,
   "metadata": {},
   "outputs": [],
   "source": [
    "def _get_first_key_match(\n",
    "    text: str,\n",
    "    keys: list[str] | None, \n",
    "    word_boundary: bool = True,\n",
    "    **kwargs,\n",
    "    ) -> str | Any | None:\n",
    "    \"\"\"\n",
    "    Return the first key match (ignore case and include newline) in the text. If no match is found, return None.\n",
    "    \"\"\"\n",
    "    if keys is None:\n",
    "        return None\n",
    "    pattern = _pattern_keys(keys, word_boundary, **kwargs) \n",
    "    match = pattern.search(text)\n",
    "    return match.group(1) if match else None"
   ]
  },
  {
   "cell_type": "code",
   "execution_count": 599,
   "metadata": {},
   "outputs": [
    {
     "data": {
      "text/plain": [
       "'hello'"
      ]
     },
     "execution_count": 599,
     "metadata": {},
     "output_type": "execute_result"
    }
   ],
   "source": [
    "_get_first_key_match(\"hhelloo world\", keys=[\"hello\", \"world\"], word_boundary= False)"
   ]
  },
  {
   "cell_type": "markdown",
   "metadata": {},
   "source": [
    "### `_get_all_key_matches()`"
   ]
  },
  {
   "cell_type": "code",
   "execution_count": null,
   "metadata": {},
   "outputs": [],
   "source": [
    "def _get_all_key_matches(\n",
    "    text: str,\n",
    "    keys: list[str], \n",
    "    regex: bool = False,\n",
    "    **kwargs,\n",
    "    ) -> list[Any]:\n",
    "    \"\"\"\n",
    "    Return all key matches (ignore case and include newline) in the text. If no match is found, return an empty list.\n",
    "    \"\"\"\n",
    "    pattern = _pattern_start_keys(keys, regex, **kwargs) \n",
    "    matches = pattern.findall(text)\n",
    "    return matches"
   ]
  },
  {
   "cell_type": "code",
   "execution_count": 196,
   "metadata": {},
   "outputs": [
    {
     "data": {
      "text/plain": [
       "['hello', 'world', 'hello']"
      ]
     },
     "execution_count": 196,
     "metadata": {},
     "output_type": "execute_result"
    }
   ],
   "source": [
    "_get_all_key_matches(\"hello world hello\", keys=[\"hello\", \"world\"], regex=False)"
   ]
  },
  {
   "cell_type": "markdown",
   "metadata": {},
   "source": [
    "## Tester"
   ]
  },
  {
   "cell_type": "code",
   "execution_count": 199,
   "metadata": {},
   "outputs": [],
   "source": [
    "t_sk1 = \"\"\"\n",
    "**History:** Rule out pneumonia\n",
    "ClinicalHistory: Patient with chest pain\n",
    "Indication: blah blah\n",
    "\n",
    "Comparison: None\n",
    "\"\"\"\n",
    "\n",
    "t_sk2 = \"\"\"\n",
    "Hist: Patient with chest pain\n",
    "Comparison: None\n",
    "\"\"\"\n",
    "\n",
    "## Check if any key match\n",
    "assert _get_first_key_match(t_sk1, [\"History\", \"Indication\"], True) == \"History\"\n",
    "assert _get_first_key_match(t_sk2, [\"History\"], ) is None\n",
    "\n",
    "assert _get_all_key_matches(t_sk1, [\"History\", \"Indication\"], True) == [\"History\", \"Indication\"]"
   ]
  },
  {
   "cell_type": "markdown",
   "metadata": {},
   "source": [
    "## How To"
   ]
  },
  {
   "cell_type": "code",
   "execution_count": 202,
   "metadata": {},
   "outputs": [
    {
     "data": {
      "text/plain": [
       "<re.Match object; span=(3, 10), match='History'>"
      ]
     },
     "execution_count": 202,
     "metadata": {},
     "output_type": "execute_result"
    }
   ],
   "source": [
    "t_sk3 = \"\"\"\n",
    "**History:** Patient with chest pain\n",
    "Indication: blah blah\n",
    "\n",
    "Comparison: None\n",
    "\"\"\"\n",
    "\n",
    "re.search(r\"\\b(History|indication)\\b.*?\", t_sk3, re.DOTALL | re.IGNORECASE)"
   ]
  },
  {
   "cell_type": "code",
   "execution_count": 92,
   "metadata": {},
   "outputs": [
    {
     "data": {
      "text/plain": [
       "'History'"
      ]
     },
     "execution_count": 92,
     "metadata": {},
     "output_type": "execute_result"
    }
   ],
   "source": [
    "re.search(f\"(History|Indication).*?\", t_sk1, re.DOTALL | re.IGNORECASE).group(1)"
   ]
  }
 ],
 "metadata": {
  "kernelspec": {
   "display_name": "llm-env",
   "language": "python",
   "name": "python3"
  },
  "language_info": {
   "codemirror_mode": {
    "name": "ipython",
    "version": 3
   },
   "file_extension": ".py",
   "mimetype": "text/x-python",
   "name": "python",
   "nbconvert_exporter": "python",
   "pygments_lexer": "ipython3",
   "version": "3.12.2"
  }
 },
 "nbformat": 4,
 "nbformat_minor": 2
}
