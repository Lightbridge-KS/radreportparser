{
 "cells": [
  {
   "cell_type": "markdown",
   "metadata": {},
   "source": [
    "# Dev: Pattern & Keys"
   ]
  },
  {
   "cell_type": "code",
   "execution_count": 1,
   "metadata": {},
   "outputs": [],
   "source": [
    "import re"
   ]
  },
  {
   "cell_type": "code",
   "execution_count": 72,
   "metadata": {},
   "outputs": [],
   "source": [
    "from typing import Any"
   ]
  },
  {
   "cell_type": "markdown",
   "metadata": {},
   "source": [
    "## Pattern"
   ]
  },
  {
   "cell_type": "markdown",
   "metadata": {},
   "source": [
    "### `_pattern_start_keys()`"
   ]
  },
  {
   "cell_type": "markdown",
   "metadata": {},
   "source": [
    "- No word boundary: `(history).*?`\n",
    "- With word boundary: `\\b(history)\\b.*?`"
   ]
  },
  {
   "cell_type": "code",
   "execution_count": null,
   "metadata": {},
   "outputs": [],
   "source": [
    "def _pattern_start_keys(\n",
    "    keys: list[str], \n",
    "    regex: bool = False,\n",
    "    flags: re.RegexFlag = re.DOTALL | re.IGNORECASE\n",
    "    ) -> Any:\n",
    "    \"\"\"\n",
    "    Creates a regex pattern that matches the start of a string with any of the keys in the list.\n",
    "    \"\"\"\n",
    "    if regex:\n",
    "        # Regex pattern that matches any of the keys in the list\n",
    "        pattern = rf\"({'|'.join(keys)}).*?\"\n",
    "    else:\n",
    "        # \\b is a word boundary, which matches the position where a word starts or ends\n",
    "        pattern = rf\"\\b({'|'.join(keys)})\\b.*?\"\n",
    "    return re.compile(pattern, flags = flags)\n"
   ]
  },
  {
   "cell_type": "code",
   "execution_count": 263,
   "metadata": {},
   "outputs": [
    {
     "data": {
      "text/plain": [
       "10"
      ]
     },
     "execution_count": 263,
     "metadata": {},
     "output_type": "execute_result"
    }
   ],
   "source": [
    "p1 = _pattern_start_keys([\"hello\", \"world\"], regex=True)\n",
    "s1 = p1.search(\"vvvv hello vvvv world vvvv\")\n",
    "s1.start()\n",
    "s1.end()"
   ]
  },
  {
   "cell_type": "markdown",
   "metadata": {},
   "source": [
    "### `_pattern_keys()`"
   ]
  },
  {
   "cell_type": "code",
   "execution_count": 357,
   "metadata": {},
   "outputs": [],
   "source": [
    "\n",
    "def _pattern_keys(\n",
    "    keys: list[str], \n",
    "    regex: bool = False,\n",
    "    flags: re.RegexFlag = re.IGNORECASE\n",
    "    ) -> Any:\n",
    "    if regex:\n",
    "        # Regex pattern that matches any of the keys in the list\n",
    "        pattern = rf\"({'|'.join(keys)})\"\n",
    "    else:\n",
    "        # \\b is a word boundary, which matches the position where a word starts or ends\n",
    "        pattern = rf\"\\b({'|'.join(keys)})\\b\"\n",
    "    return re.compile(pattern, flags = flags)\n"
   ]
  },
  {
   "cell_type": "markdown",
   "metadata": {},
   "source": [
    "## Extract Section: `_extract_section()`"
   ]
  },
  {
   "cell_type": "code",
   "execution_count": 347,
   "metadata": {},
   "outputs": [],
   "source": [
    "def extract_section(text, \n",
    "                    start_keys: list[str],\n",
    "                    end_keys: list[str] | None,\n",
    "                    include_start_keys: bool = False,\n",
    "                    regex: bool = True,\n",
    "                    flags: re.RegexFlag = re.IGNORECASE,\n",
    "                    ):\n",
    "    \n",
    "    # First find the starting point\n",
    "    start_match = _pattern_keys(start_keys, regex, flags).search(text)\n",
    "    \n",
    "    if not start_match:\n",
    "        return \"\"\n",
    "    \n",
    "    if end_keys is None:\n",
    "        # If there are no end keys, extract the section from the start key to the end of the text\n",
    "        end_idx = len(text)\n",
    "    else:\n",
    "        # Find the ending point\n",
    "        end_match = _pattern_keys(end_keys, regex, flags).search(text[start_match.start():])\n",
    "        if not end_match:\n",
    "            end_idx = len(text)\n",
    "        else:\n",
    "            # Find the index of the end key in the original text\n",
    "            end_idx = start_match.start() + end_match.start()\n",
    "    \n",
    "    if include_start_keys:\n",
    "        # Extract the section with start key\n",
    "        section = text[start_match.start():end_idx].strip()\n",
    "    else:\n",
    "        # Extract the section without start key\n",
    "        section = text[start_match.end():end_idx].strip()\n",
    "    return section"
   ]
  },
  {
   "cell_type": "code",
   "execution_count": 407,
   "metadata": {},
   "outputs": [
    {
     "name": "stdout",
     "output_type": "stream",
     "text": [
      "A patient presented with these symptoms:\n",
      "- Chest Pain\n",
      "- Dyspnea\n"
     ]
    }
   ],
   "source": [
    "\n",
    "t_rep1 = \"\"\"\n",
    "History: A patient presented with these symptoms:\n",
    "- Chest Pain\n",
    "- Dyspnea\n",
    "\n",
    "technique: CT chest\n",
    "\n",
    "Comparison: None\n",
    "\"\"\"\n",
    "t_rep2 = \"\"\"\n",
    "A patient presented with these symptoms:\n",
    "- Chest Pain\n",
    "- Dyspnea\n",
    "\n",
    "technique: CT chest\n",
    "\"\"\"\n",
    "\n",
    "# Test it\n",
    "section = extract_section(t_rep1, \n",
    "                          start_keys=[\"His..ry:\", \"indication\"], \n",
    "                          end_keys=[\"comparison\", \"technique\"], \n",
    "                          regex= True,\n",
    "                          include_start_keys=False)\n",
    "print(section)"
   ]
  },
  {
   "cell_type": "code",
   "execution_count": 356,
   "metadata": {},
   "outputs": [
    {
     "data": {
      "text/plain": [
       "'A patient presented with these symptoms:\\n- Chest Pain\\n- Dyspnea\\n\\ntechnique: CT chest'"
      ]
     },
     "execution_count": 356,
     "metadata": {},
     "output_type": "execute_result"
    }
   ],
   "source": [
    "extract_section(t_rep1, \n",
    "                start_keys=[\"History\"], \n",
    "                end_keys=None, \n",
    "                regex= True,\n",
    "                include_start_keys=False)"
   ]
  },
  {
   "cell_type": "code",
   "execution_count": 345,
   "metadata": {},
   "outputs": [
    {
     "data": {
      "text/plain": [
       "'A patient presented with these symptoms:\\n- Chest Pain\\n- Dyspnea'"
      ]
     },
     "execution_count": 345,
     "metadata": {},
     "output_type": "execute_result"
    }
   ],
   "source": [
    "t_rep_md1 = \"\"\"\n",
    "History: A patient presented with these symptoms:\n",
    "- Chest Pain\n",
    "- Dyspnea\n",
    "\n",
    "**technique:** CT chest\n",
    "\"\"\"\n",
    "\n",
    "extract_section(t_rep_md1, \n",
    "                start_keys=[r\"\\W*History\\W*\"], \n",
    "                end_keys=[r\"\\W*technique\\W*\"],\n",
    "                regex= True,\n",
    "                include_start_keys=False)"
   ]
  },
  {
   "cell_type": "code",
   "execution_count": 384,
   "metadata": {},
   "outputs": [
    {
     "data": {
      "text/plain": [
       "'A\\n- B\\n- C'"
      ]
     },
     "execution_count": 384,
     "metadata": {},
     "output_type": "execute_result"
    }
   ],
   "source": [
    "t_rep_md2 = \"\"\"\n",
    "Finding: \n",
    "- A\n",
    "- B\n",
    "- C\n",
    "\n",
    "**Impression:**\n",
    "- D\n",
    "- E\n",
    "- F\n",
    "\"\"\"\n",
    "\n",
    "extract_section(t_rep_md2, \n",
    "                start_keys=[r\"\\W*Finding(s?)\\W*\"], \n",
    "                end_keys=[r\"\\W*Impression\\W*\"],\n",
    "                regex= True,\n",
    "                include_start_keys=False)"
   ]
  },
  {
   "cell_type": "code",
   "execution_count": 399,
   "metadata": {},
   "outputs": [
    {
     "data": {
      "text/plain": [
       "'A\\n- B\\n- C'"
      ]
     },
     "execution_count": 399,
     "metadata": {},
     "output_type": "execute_result"
    }
   ],
   "source": [
    "t_rep_md3 = \"\"\"\n",
    "Clinical Indications: \n",
    "- A\n",
    "- B\n",
    "- C\n",
    "\n",
    "**Impression:**\n",
    "- D\n",
    "- E\n",
    "- F\n",
    "\"\"\"\n",
    "\n",
    "extract_section(t_rep_md3, \n",
    "                start_keys= [r\"\\W*history\\W*\", r\"\\W*indication(s?)\\W*\", *[rf\"\\W*clinical\\s+{h}\\W*\" for h in [\"history\", r\"indication(s?)\"]]],\n",
    "                end_keys=[r\"\\W*Impression\\W*\"],\n",
    "                regex= True,\n",
    "                include_start_keys=False)"
   ]
  },
  {
   "cell_type": "markdown",
   "metadata": {},
   "source": [
    "## Get Match"
   ]
  },
  {
   "cell_type": "markdown",
   "metadata": {},
   "source": [
    "### `_get_first_key_match()`"
   ]
  },
  {
   "cell_type": "code",
   "execution_count": 267,
   "metadata": {},
   "outputs": [],
   "source": [
    "def _get_first_key_match(\n",
    "    text: str,\n",
    "    keys: list[str], \n",
    "    regex: bool = False,\n",
    "    **kwargs,\n",
    "    ) -> str | Any | None:\n",
    "    \"\"\"\n",
    "    Return the first key match (ignore case and include newline) in the text. If no match is found, return None.\n",
    "    \"\"\"\n",
    "    pattern = _pattern_start_keys(keys, regex, **kwargs) \n",
    "    match = pattern.search(text)\n",
    "    return match.group(1) if match else None"
   ]
  },
  {
   "cell_type": "code",
   "execution_count": 268,
   "metadata": {},
   "outputs": [
    {
     "data": {
      "text/plain": [
       "'hello'"
      ]
     },
     "execution_count": 268,
     "metadata": {},
     "output_type": "execute_result"
    }
   ],
   "source": [
    "_get_first_key_match(\"hello world\", keys=[\"hello\", \"world\"], regex=False)"
   ]
  },
  {
   "cell_type": "markdown",
   "metadata": {},
   "source": [
    "### `_get_all_key_matches()`"
   ]
  },
  {
   "cell_type": "code",
   "execution_count": null,
   "metadata": {},
   "outputs": [],
   "source": [
    "def _get_all_key_matches(\n",
    "    text: str,\n",
    "    keys: list[str], \n",
    "    regex: bool = False,\n",
    "    **kwargs,\n",
    "    ) -> list[Any]:\n",
    "    \"\"\"\n",
    "    Return all key matches (ignore case and include newline) in the text. If no match is found, return an empty list.\n",
    "    \"\"\"\n",
    "    pattern = _pattern_start_keys(keys, regex, **kwargs) \n",
    "    matches = pattern.findall(text)\n",
    "    return matches"
   ]
  },
  {
   "cell_type": "code",
   "execution_count": 196,
   "metadata": {},
   "outputs": [
    {
     "data": {
      "text/plain": [
       "['hello', 'world', 'hello']"
      ]
     },
     "execution_count": 196,
     "metadata": {},
     "output_type": "execute_result"
    }
   ],
   "source": [
    "_get_all_key_matches(\"hello world hello\", keys=[\"hello\", \"world\"], regex=False)"
   ]
  },
  {
   "cell_type": "markdown",
   "metadata": {},
   "source": [
    "## Tester"
   ]
  },
  {
   "cell_type": "code",
   "execution_count": 199,
   "metadata": {},
   "outputs": [],
   "source": [
    "t_sk1 = \"\"\"\n",
    "**History:** Rule out pneumonia\n",
    "ClinicalHistory: Patient with chest pain\n",
    "Indication: blah blah\n",
    "\n",
    "Comparison: None\n",
    "\"\"\"\n",
    "\n",
    "t_sk2 = \"\"\"\n",
    "Hist: Patient with chest pain\n",
    "Comparison: None\n",
    "\"\"\"\n",
    "\n",
    "## Check if any key match\n",
    "assert _get_first_key_match(t_sk1, [\"History\", \"Indication\"], True) == \"History\"\n",
    "assert _get_first_key_match(t_sk2, [\"History\"], ) is None\n",
    "\n",
    "assert _get_all_key_matches(t_sk1, [\"History\", \"Indication\"], True) == [\"History\", \"Indication\"]"
   ]
  },
  {
   "cell_type": "markdown",
   "metadata": {},
   "source": [
    "## How To"
   ]
  },
  {
   "cell_type": "code",
   "execution_count": 202,
   "metadata": {},
   "outputs": [
    {
     "data": {
      "text/plain": [
       "<re.Match object; span=(3, 10), match='History'>"
      ]
     },
     "execution_count": 202,
     "metadata": {},
     "output_type": "execute_result"
    }
   ],
   "source": [
    "t_sk3 = \"\"\"\n",
    "**History:** Patient with chest pain\n",
    "Indication: blah blah\n",
    "\n",
    "Comparison: None\n",
    "\"\"\"\n",
    "\n",
    "re.search(r\"\\b(History|indication)\\b.*?\", t_sk3, re.DOTALL | re.IGNORECASE)"
   ]
  },
  {
   "cell_type": "code",
   "execution_count": 92,
   "metadata": {},
   "outputs": [
    {
     "data": {
      "text/plain": [
       "'History'"
      ]
     },
     "execution_count": 92,
     "metadata": {},
     "output_type": "execute_result"
    }
   ],
   "source": [
    "re.search(f\"(History|Indication).*?\", t_sk1, re.DOTALL | re.IGNORECASE).group(1)"
   ]
  }
 ],
 "metadata": {
  "kernelspec": {
   "display_name": "llm-env",
   "language": "python",
   "name": "python3"
  },
  "language_info": {
   "codemirror_mode": {
    "name": "ipython",
    "version": 3
   },
   "file_extension": ".py",
   "mimetype": "text/x-python",
   "name": "python",
   "nbconvert_exporter": "python",
   "pygments_lexer": "ipython3",
   "version": "3.12.2"
  }
 },
 "nbformat": 4,
 "nbformat_minor": 2
}
