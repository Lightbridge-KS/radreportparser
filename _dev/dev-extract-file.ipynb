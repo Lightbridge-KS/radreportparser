{
 "cells": [
  {
   "cell_type": "markdown",
   "metadata": {},
   "source": [
    "# Dev: Extract File"
   ]
  },
  {
   "cell_type": "code",
   "execution_count": 1,
   "metadata": {},
   "outputs": [],
   "source": [
    "import sys\n",
    "import os\n",
    "from pathlib import Path\n",
    "import pandas as pd\n",
    "from IPython.display import display_markdown, Image\n",
    "from markdownify import markdownify as md\n",
    "\n",
    "\n",
    "sys.path.insert(1, str(Path.cwd().parent)) \n",
    "from fs import read_text_dir\n",
    "from radreportparser import RadReportExtractor\n",
    "\n",
    "rre = RadReportExtractor()"
   ]
  },
  {
   "cell_type": "code",
   "execution_count": 2,
   "metadata": {},
   "outputs": [],
   "source": [
    "ex_report = {\n",
    "    \"plain\": read_text_dir(\"../report/generated/plain\"),\n",
    "    \"md\": read_text_dir(\"../report/generated/md\"),\n",
    "}\n"
   ]
  },
  {
   "cell_type": "code",
   "execution_count": 3,
   "metadata": {},
   "outputs": [],
   "source": [
    "def extract_fn_report(fn, **kwargs):\n",
    "    res = {k: fn(v, **kwargs) for kk, vv in ex_report.items() for k, v in vv.items()}\n",
    "    return res\n"
   ]
  },
  {
   "cell_type": "markdown",
   "metadata": {},
   "source": [
    "## Extract All"
   ]
  },
  {
   "cell_type": "code",
   "execution_count": 4,
   "metadata": {},
   "outputs": [
    {
     "data": {
      "text/plain": [
       "RadReport(title='**EMERGENCY MDCT OF THE BRAIN**', history='A 25-year-old female presents with dizziness and brief loss of consciousness following a minor head impact 3 hours ago. Physical examination reveals no focal neurological deficits. The CT scan was requested to rule out intracranial hemorrhage.', technique='Axial helical scan of the brain was performed using 2.5-mm (brain) and 1.25-mm (bone) slice thickness with coronal and sagittal reconstructions.', comparison='None.', findings='**Cerebral parenchyma:** The study reveals age-appropriate brain volume. Normal parenchymal attenuation and gray-white differentiation. The remainder of the imaged cerebral parenchyma appears unremarkable. No acute large territorial infarction or intraparenchymal hemorrhage is identified.\\n\\n**Cerebellum and posterior fossa:** Normal, with a limited evaluation of the brainstem due to beam-hardening artifacts. The cerebellum appears unremarkable.\\n\\n**Extraaxial spaces:** No extra-axial collection is observed.\\n\\n**Ventricles:** Normal size of the ventricular system. No intraventricular hemorrhage.\\n\\n**Midline shift:** None.\\n\\n**Brain herniation:** None.\\n\\n**Vascular system:** Normal.\\n\\n**Calvarium and scalp:** No fracture identified.\\n\\n**Skull base, sella and temporomandibular joints (TMJs):** Normal.\\n\\n**Visualized orbits, paranasal sinuses and mastoid air cells:** Mild mucosal thickening in the right nasal cavity and bilateral maxillary sinuses. The remainder of the visualized orbits, mastoid air cells, and nasopharynx appear unremarkable.\\n\\n**Visualized upper cervical spine:** No fracture identified.', impression='- No intracranial hemorrhage, acute large territorial infarction, extra-axial collection, midline shift, brain herniation, or skull fracture identified.')"
      ]
     },
     "execution_count": 4,
     "metadata": {},
     "output_type": "execute_result"
    }
   ],
   "source": [
    "rre.extract_all(ex_report[\"md\"][\"CT-Brain-01.md\"], include_key = False)"
   ]
  },
  {
   "cell_type": "code",
   "execution_count": 5,
   "metadata": {},
   "outputs": [
    {
     "name": "stderr",
     "output_type": "stream",
     "text": [
      "2025-02-14 21:54:24,365 - WARNING [radreportparser] - Start pattern `[^\\w\\n]*Finding(s?)[^\\w\\n]*` appear 2 times in text, only the first one will be matched.\n",
      "2025-02-14 21:54:24,366 - WARNING [radreportparser] - Start pattern `[^\\w\\n]*History[^\\w\\n]*` appear 2 times in text, only the first one will be matched.\n",
      "2025-02-14 21:54:24,367 - WARNING [radreportparser] - Start pattern `[^\\w\\n]*Finding(s?)[^\\w\\n]*` appear 3 times in text, only the first one will be matched.\n",
      "2025-02-14 21:54:24,370 - WARNING [radreportparser] - Start pattern `[^\\w\\n]*History[^\\w\\n]*` appear 2 times in text, only the first one will be matched.\n",
      "2025-02-14 21:54:24,371 - WARNING [radreportparser] - Start pattern `[^\\w\\n]*Comparison(s?)[^\\w\\n]*` appear 2 times in text, only the first one will be matched.\n",
      "2025-02-14 21:54:24,372 - WARNING [radreportparser] - Start pattern `[^\\w\\n]*Finding(s?)[^\\w\\n]*` appear 3 times in text, only the first one will be matched.\n",
      "2025-02-14 21:54:24,373 - WARNING [radreportparser] - Start pattern `[^\\w\\n]*History[^\\w\\n]*` appear 2 times in text, only the first one will be matched.\n",
      "2025-02-14 21:54:24,374 - WARNING [radreportparser] - Start pattern `[^\\w\\n]*Finding(s?)[^\\w\\n]*` appear 2 times in text, only the first one will be matched.\n",
      "2025-02-14 21:54:24,376 - WARNING [radreportparser] - Start pattern `[^\\w\\n]*Finding(s?)[^\\w\\n]*` appear 2 times in text, only the first one will be matched.\n"
     ]
    }
   ],
   "source": [
    "ex_report_ext = extract_fn_report(rre.extract_all)"
   ]
  },
  {
   "cell_type": "code",
   "execution_count": 19,
   "metadata": {},
   "outputs": [
    {
     "data": {
      "text/plain": [
       "{'CT-Brain-01.txt': RadReport(title='EMERGENCY MDCT OF THE BRAIN', history='A 25-year-old female presents with dizziness and brief loss of consciousness following a minor head impact 3 hours ago. Physical examination reveals no focal neurological deficits. The CT scan was requested to rule out intracranial hemorrhage.', technique='Axial helical scan of the brain was performed using 2.5-mm (brain) and 1.25-mm (bone) slice thickness with coronal and sagittal reconstructions.', comparison='None.', findings='Cerebral parenchyma: The study reveals age-appropriate brain volume. Normal parenchymal attenuation and gray-white differentiation. The remainder of the imaged cerebral parenchyma appears unremarkable. No acute large territorial infarction or intraparenchymal hemorrhage is identified.\\n\\nCerebellum and posterior fossa: Normal, with a limited evaluation of the brainstem due to beam-hardening artifacts. The cerebellum appears unremarkable.\\n\\nExtraaxial spaces: No extra-axial collection is observed.\\n\\nVentricles: Normal size of the ventricular system. No intraventricular hemorrhage.\\n\\nMidline shift: None.\\n\\nBrain herniation: None.\\n\\nVascular system: Normal.\\n\\nCalvarium and scalp: No fracture identified.\\n\\nSkull base, sella and temporomandibular joints (TMJs): Normal.\\n\\nVisualized orbits, paranasal sinuses and mastoid air cells: Mild mucosal thickening in the right nasal cavity and bilateral maxillary sinuses. The remainder of the visualized orbits, mastoid air cells, and nasopharynx appear unremarkable.\\n\\nVisualized upper cervical spine: No fracture identified.', impression='- No intracranial hemorrhage, acute large territorial infarction, extra-axial collection, midline shift, brain herniation, or skull fracture identified.'),\n",
       " 'CT-UpperAbd-01.txt': RadReport(title='EMERGENCY MDCT SCAN OF THE UPPER ABDOMEN', history='Known case of HTN and dyslipidemia, presented with epigastric pain and fever for two days. He was sent for rule out acute cholecystitis.', technique='Axial helical scan of the upper abdomen with 3-mm slice thickness.  \\nThe scan phases included: plain, late arterial, portovenous, and delayed 3-minute (liver).  \\nIntravenous contrast brand, concentration, volume: Visipaque320; 70 ml.  \\nOther route(s) of contrast: Oral (limited water)  \\nFasting (NPO) time: N/A  \\nImmediate complication: none.  \\nEstimated radiation dose: 9.2154 mGy, 1085.42 mGycm. Standard DRL recommended by the American College of Radiology and European Commission = 25 mGy, 900 mGycm. Values reported for 16-32-cm PMMA phantom. Uncertainties associated with this method are approximately 20%. Size-dependent factors have not been incorporated.', comparison='US of the upper abdomen dated 05/08/2024.', findings='Lower thorax: Minimal bibasilar atelectasis. No mass, consolidation, or tree-in-bud opacity. Normal heart size without pericardial effusion.  \\nLiver, hepatic vasculature, bile ducts, and gallbladder:  \\n- Mildly distended gallbladder containing a few small gallstones (up to 4 mm) at the gallbladder neck, with mild gallbladder wall thickening (about 3 mm), slight pericholecystic fat stranding, and subtle surrounding hyperemia. No pericholecystic fluid collection.  \\n- Mildly prominent CBD (up to 8 mm) with mild bile duct wall thickening and enhancement of the CBD and intrahepatic ducts. No radiopaque bile duct stone.  \\n- Diffuse hepatic steatosis without focal hepatic lesion. Patent IVC, hepatic veins, and portal veins.  \\nPancreas: No focal pancreatic lesion or ductal dilatation.  \\nSpleen: Normal size. No focal lesions.  \\nAdrenals: No adrenal nodules.  \\nKidneys and proximal ureters: Normal size, parenchymal enhancement, and excretory function of both kidneys. No significant change of a 2.4-cm lobulated cortical cyst with thin internal septations at the mid-pole of the left kidney. No stones, hydronephrosis, or mass.  \\nBowel and mesentery: Few small diverticula in the sigmoid colon without surrounding fat stranding. No bowel distension or wall thickening.  \\nLymph nodes: Multiple small periportal, paracaval, and aortocaval lymph nodes, the largest measuring 0.9 cm in short-axis diameter, likely reactive.  \\nPeritoneum, retroperitoneum, and abdominal wall: No free fluid or free air.  \\nVessels: A 1.4-cm saccular aneurysm with a partially thrombosed and calcified wall arising from the proximal left renal artery. Mild atherosclerotic changes of the abdominal aorta and its major branches.  \\nBony structures: Mild osteopenia. Degenerative changes of the lumbar spine. No suspicious lytic or sclerotic bone lesions.', impression='- Small gallstones at the gallbladder neck with mild gallbladder wall thickening and mild pericholecystic fat stranding; findings suggestive of early acute calculous cholecystitis.  \\n- Mild bile duct wall enhancement along the CBD and intrahepatic bile ducts; possible early acute cholangitis.  \\n- Mild prominence of the CBD without an obvious obstructive lesion.  \\n- Few colonic diverticula without signs of acute diverticulitis.  \\n- No significant change in a 2.4-cm lobulated cortical cyst with thin internal septations at the left kidney (Bosniak II).  \\n- A 1.4-cm saccular aneurysm with partial thrombosis and calcification arising from the proximal left renal artery.'),\n",
       " 'MRI-Brain-01.txt': RadReport(title='MRI OF THE BRAIN', history='A 35-year-old female with history of recurrent bilateral optic neuritis and a prior episode of transverse myelitis, tested negative for NMO IgG and oligoclonal bands, was referred for evaluation of the brain and spinal cord.', technique='Brain  \\nSagittal MDEFT T1W, FLAIR FS + Gd with axial reconstruction  \\nAxial SE T1W, TSE T2WFS, DWI with ADC and EDC mapping, SWI, THRIVE + Gd with sagittal and coronal reconstruction  \\nCoronal FFE T2W  \\n\\nWhole spine  \\nSagittal T1W -/+ Gd, T2W, STIR  \\nAxial T1W -/+ Gd, TSE T2W, FFE T2W  \\nCoronal T2WFS', comparison='MRI of the brain and orbit dated 07/11/2018.', findings='Brain  \\nThe current study demonstrates no significant change in the T2/FLAIR hyperintense foci at the splenium and body of the corpus callosum, extending into the callososeptal interface. No significant interval change in multiple hyperintense T2/FLAIR lesions involving bilateral thalami, centrum semiovale, and subcortical white matter of the bilateral frontal and parietal lobes. No new lesion is identified. Findings suggest stable disease in the context of an ongoing demyelinating process. The remainder of the brain parenchyma and ventricular system appear within normal limits. No T1 hypointensity or abnormal post-contrast enhancement is observed. There is no evidence of intracranial hemorrhage, acute infarction, midline shift, hydrocephalus, extra-axial collection, or brain herniation.  \\n\\nWhole spine  \\nThe study reveals a mild T2 hyperintense signal involving a substantial cross-section of the spinal cord. The full extent of the lesion is difficult to delineate, but grossly, it spans a long segment, nearly the entire spinal cord.  \\nVertebral marrow signal appears within normal limits.  \\nThe conus medullaris terminates at the L1-2 level and exhibits normal morphology.  \\nThe cauda equina nerve roots are symmetrically arranged.  \\nNo abnormal enhancement or leptomeningeal enhancement is detected.', impression='Stable intracranial lesions with extensive longitudinal spinal cord involvement, suggestive of a demyelinating process, with findings favoring NMO over MS.'),\n",
       " 'MRI-Brain-02.txt': RadReport(title='MRI AND MRA OF THE BRAIN', history='Known case of ischemic stroke in a young patient with positive lupus anticoagulant, presented with right-sided hemiparesis for 12 hours. She was referred to rule out a small vessel infarction.', technique='Sagittal SE T1W  \\nAxial SE T1W, TSE T2W FS, DWI with ADC mapping, SWI, T2W FLAIR  \\nCoronal GRE T2W  \\nTOF MRA of the brain and neck', comparison='CT of the brain 15/09/2019.', findings='The study demonstrates normal gray-white matter differentiation in the brain parenchyma. The ventricular system and cortical sulci are within normal limits. The brainstem and cerebellum appear unremarkable.  \\n\\nNo evidence of acute infarction, recent intraparenchymal hemorrhage, extra-axial collection, hydrocephalus, or brain herniation.  \\n\\nThe calvarium and skull base show normal marrow signal intensity. A mucous retention cyst is noted in the left maxillary sinus. The orbits, other paranasal sinuses, and mastoid air cells appear within normal limits. No interval change in a small cyst at the left paramedian nasopharynx, likely a Thornwaldt cyst.  \\n\\nThe TOF MRA study demonstrates decreased flow-related enhancement at bilateral cavernous ICAs, which may represent an in-plane flow artifact. Hypoplasia of the A1 segment of the right ACA is observed as a normal anatomic variant. The remaining intracranial and cervical vessels show no significant stenosis, aneurysm, or vascular malformation.', impression='- No acute infarction detected.  \\n- Decreased flow-related enhancement at bilateral cavernous ICAs may be due to in-plane flow artifact.'),\n",
       " 'CT-Brain-01.md': RadReport(title='**EMERGENCY MDCT OF THE BRAIN**', history='A 25-year-old female presents with dizziness and brief loss of consciousness following a minor head impact 3 hours ago. Physical examination reveals no focal neurological deficits. The CT scan was requested to rule out intracranial hemorrhage.', technique='Axial helical scan of the brain was performed using 2.5-mm (brain) and 1.25-mm (bone) slice thickness with coronal and sagittal reconstructions.', comparison='None.', findings='**Cerebral parenchyma:** The study reveals age-appropriate brain volume. Normal parenchymal attenuation and gray-white differentiation. The remainder of the imaged cerebral parenchyma appears unremarkable. No acute large territorial infarction or intraparenchymal hemorrhage is identified.\\n\\n**Cerebellum and posterior fossa:** Normal, with a limited evaluation of the brainstem due to beam-hardening artifacts. The cerebellum appears unremarkable.\\n\\n**Extraaxial spaces:** No extra-axial collection is observed.\\n\\n**Ventricles:** Normal size of the ventricular system. No intraventricular hemorrhage.\\n\\n**Midline shift:** None.\\n\\n**Brain herniation:** None.\\n\\n**Vascular system:** Normal.\\n\\n**Calvarium and scalp:** No fracture identified.\\n\\n**Skull base, sella and temporomandibular joints (TMJs):** Normal.\\n\\n**Visualized orbits, paranasal sinuses and mastoid air cells:** Mild mucosal thickening in the right nasal cavity and bilateral maxillary sinuses. The remainder of the visualized orbits, mastoid air cells, and nasopharynx appear unremarkable.\\n\\n**Visualized upper cervical spine:** No fracture identified.', impression='- No intracranial hemorrhage, acute large territorial infarction, extra-axial collection, midline shift, brain herniation, or skull fracture identified.'),\n",
       " 'CT-RECIST-01.md': RadReport(title='**MDCT OF THE BRAIN, CHEST AND WHOLE ABDOMEN (1st study, baseline scan)**', history='A 68-year-old man, known history of metastatic adenocarcinoma of the lung\\nS/P left upper lobectomy, was referred for pre-treatment evaluation (trial PD-001).', technique='Axial scans of the brain, chest, and whole abdomen were performed with IV\\ncontrast material as per standard departmental protocol.    \\n\\n    \\n\\n**CT BRAIN**', comparison='None.', findings='The study shows normal brain parenchymal attenuation.    \\n\\nNo evidence of focal mass or significant leptomeningeal enhancement. No large\\ninfarction, acute intracranial hemorrhage, extra-axial collection, hydrocephalus, or brain herniation.    \\n\\nMild atherosclerosis of bilateral cavernous ICAs is noted. The\\nparanasal sinuses, mastoid air cells, orbits, and bony structures appear unremarkable.   \\n\\n    \\n\\n**CT OF THE CHEST AND WHOLE ABDOMEN**    \\n\\n   \\n\\n**COMPARISON:** \\nPrevious CT of the chest and upper abdomen performed on 14/05/2021.\\n  \\n\\n**FINDINGS:**    \\n\\n**Tube and line:** \\nNone.    \\n\\n**Lungs and airways:**\\n Post left upper lobectomy with interval progression in size of\\nan irregular enhancing soft tissue mass at the LLL near the bronchial stump, now measuring approximately\\n1.8x2.5 cm from 1.6x2.1 cm in transaxial dimension. The mass encroaches upon the LLL bronchus, leading to\\npartial collapse.    \\n\\nMultiple peribronchial nodules and part-solid masses with irregular\\nmargins at the left lower lobe have increased in size, the largest now measuring 3.5x4.8 cm (Im 64, Se 302).\\nTwo additional dominant nodules in the left lower lobe measure 2.9 cm (Im 89, Se 302; target lesion#1) and\\n3.3 cm (Im 104, Se 302; target lesion#2).    \\n\\nA tiny stable ground-glass nodule at the apicoposterior segment of the RUL\\n(4 mm, Im 42, Se302). No significant fibrosis in bilateral lower lobes.   \\n\\n**Pleura:**\\n Enlargement of a nodular pleural thickening along the left 6th-7th\\nposterior costal pleura, now measuring up to 1.7x3.5 cm (Im 72, Se701). Small left-sided pleural effusion is\\npresent. No pneumothorax.    \\n\\n**Mediastinum:** \\nNo significant mediastinal or hilar lymphadenopathy. Normal heart\\nsize without pericardial effusion. No abnormality of visualized thoracic aorta or esophagus.    \\n\\n**Target lesions**    \\n\\n1. A pulmonary nodule in the left lower lobe, size = 2.9 cm (Im 89, Se 302; target lesion#1)    \\n\\n2. A pulmonary nodule in the left lower lobe, size = 3.3 cm (Im 104, Se 302; target lesion#2)   \\n   \\n\\n**Sum of longest diameter of target lesions = 6.2 cm = 62 mm**\\n   \\n\\n**Evaluation of target lesions = Baseline study**', impression='**BRAIN**    \\n\\n- Unremarkable brain CT.    \\n\\n    \\n\\n**CHEST, AND WHOLE ABDOMEN**    \\n\\n - Status post left upper lobectomy with interval increase in the size of the\\nsoft tissue at the LLL near the surgical site, leading to partial collapse. \\n**Findings concerning for progression of recurrent lung cancer.**    \\n\\n **- Suggestive of worsening pulmonary metastases in the left lung.**    \\n\\n - Stable ground-glass nodule at the RUL, indeterminate etiology,\\nfollow-up recommended.   \\n\\n - Increasing thickness of pleural nodularity along the left 6th-7th ribs,\\npossible progressive pleural metastasis. Follow-up advised.'),\n",
       " 'CT-RECIST-02.md': RadReport(title='**MDCT OF THE CHEST AND WHOLE ABDOMEN (2nd study, 1st follow-up scan)**', history='A 69-year-old man, known history of metastatic lung adenocarcinoma\\nS/P left upper lobectomy, was referred for follow-up evaluation during clinical trial protocol PD-001.', technique='Axial scans of the brain, chest, and whole abdomen were performed with IV\\ncontrast material as per standard departmental protocol.', comparison='Prior baseline CT chest and whole abdomen obtained on 05/08/2023.', findings='**Tube and line:**\\n None.    \\n\\n**Lungs and airways:** \\n Post left upper lobectomy with no significant interval change in the\\nheterogeneous enhancing soft tissue mass at the LLL near the bronchial stump, now measuring 1.7x2.4 cm\\nin transaxial dimension. The soft tissue mass involves the LLL bronchus, leading to partial collapse.\\n   \\n\\n  \\xa0\\xa0\\xa0 \\nThere is a slight reduction in size of multiple peribronchial part-solid nodules and masses with irregular\\nmargins in the LLL, with target lesion#1 decreasing from 2.65 cm to 2.38 cm in the greatest transaxial diameter\\n(target#1; Im 78 Se 210), and target lesion#2 decreasing from 3.10 cm to 2.91 cm (target#2; Im 92 Se 210).\\nThe largest lesion with pleural attachment and adjacent subsegmental atelectasis in the superior segment of\\nthe LLL has decreased from 3.5x4.6 cm to 3.3x3.8 cm (Im 58 Se 210).    \\n\\n  \\xa0\\xa0\\xa0 \\nHowever, there is a mild increase in size of a part-solid nodule in the superior segment of the LLL\\n(Im 59 Se 210) from 0.70 cm to 1.15 cm. No significant interval change of a tiny ground-glass nodule in the\\napicoposterior segment of the RUL. No interval change in fibrosis at bilateral lower lobes and inferior\\nlingular segment of the LUL.    \\n\\n**Pleura:**\\n No significant change in the nodular pleural thickening along the left\\n6th-7th posterior costal pleura, now measuring up to 1.4x3.3 cm (Im 58, Se 602). Small left-sided pleural\\neffusion persists. No pneumothorax.    \\n\\n**Mediastinum:** \\n No significant mediastinal or hilar lymphadenopathy. Normal heart\\nsize without pericardial effusion. No abnormalities in visualized thoracic aorta or esophagus.    \\n\\n**Target lesions**    \\n\\n 1. Slight decrease in size of the pulmonary nodule in the left lower lobe,\\nnow 2.38 cm from 2.65 cm (Im 78 Se 210; target lesion#1).    \\n\\n 2. Slight decrease in size of the pulmonary nodule in the left lower lobe,\\nnow 2.91 cm from 3.10 cm (Im 92 Se 210; target lesion#2).    \\n\\n    \\n\\n Sum of longest diameter of target lesions = 5.29 cm = 52.9 mm from\\nbaseline 57.5 mm (8% decrease in SLD of the two target lesions).    \\n\\n **Evaluation of target lesions = Stable disease**', impression='- Status post left upper lobectomy with stable soft tissue mass at the\\nLLL near the surgical site, leading to partial collapse. Findings remain concerning for persistent/recurrent\\nlung cancer.    \\n\\n - Slight regression of multiple metastatic pulmonary masses in the left\\nlung.    \\n\\n - Increase in size of a 1.15-cm part-solid nodule in the LLL,\\nuncertain nature, and possibly representing progressive pulmonary metastasis or an emerging primary tumor.\\nClose follow-up is advised.    \\n\\n - No significant change in a tiny ground-glass nodule in the RUL,\\nindeterminate significance. Surveillance recommended.    \\n\\n - No interval change in nodular pleural thickening along the left 6th-7th\\nribs, possibly representing pleural metastasis or post-surgical scarring. Follow-up suggested.    \\n\\n - No intra-thoracic or upper abdominal lymphadenopathy.    \\n\\n - No interval change in a small hepatic cyst, renal cysts, or bilateral\\nrenal AMLs.    \\n\\n - No interval change in multiple small hypodense thyroid nodules.'),\n",
       " 'CT-UpperAbd-01.md': RadReport(title='**EMERGENCY MDCT SCAN OF THE UPPER ABDOMEN**', history='Known case of HTN and dyslipidemia, presented with epigastric pain and fever for two days. He was sent for rule out acute cholecystitis.', technique='Axial helical scan of the upper abdomen with 3-mm slice thickness.  \\n**The scan phases included:** plain, late arterial, portovenous, and delayed 3-minute (liver).  \\nIntravenous contrast brand, concentration, volume: Visipaque320; 70 ml.  \\n**Other route(s) of contrast:** Oral (limited water)  \\n**Fasting (NPO) time:** N/A  \\n**Immediate complication:** none.  \\n**Estimated radiation dose:** 9.2154 mGy, 1085.42 mGycm. Standard DRL recommended by the American College of Radiology and European Commission = 25 mGy, 900 mGycm. Values reported for 16-32-cm PMMA phantom. Uncertainties associated with this method are approximately 20%. Size-dependent factors have not been incorporated.', comparison='US of the upper abdomen dated 05/08/2024.', findings='**Lower thorax:** Minimal bibasilar atelectasis. No mass, consolidation, or tree-in-bud opacity. Normal heart size without pericardial effusion.  \\n**Liver, hepatic vasculature, bile ducts, and gallbladder:**  \\n- Mildly distended gallbladder containing a few small gallstones (up to 4 mm) at the gallbladder neck, with mild gallbladder wall thickening (about 3 mm), slight pericholecystic fat stranding, and subtle surrounding hyperemia. No pericholecystic fluid collection.  \\n- Mildly prominent CBD (up to 8 mm) with mild bile duct wall thickening and enhancement of the CBD and intrahepatic ducts. No radiopaque bile duct stone.  \\n- Diffuse hepatic steatosis without focal hepatic lesion. Patent IVC, hepatic veins, and portal veins.  \\n**Pancreas:** No focal pancreatic lesion or ductal dilatation.  \\n**Spleen:** Normal size. No focal lesions.  \\n**Adrenals:** No adrenal nodules.  \\n**Kidneys and proximal ureters:** Normal size, parenchymal enhancement, and excretory function of both kidneys. No significant change of a 2.4-cm lobulated cortical cyst with thin internal septations at the mid-pole of the left kidney. No stones, hydronephrosis, or mass.  \\n**Bowel and mesentery:** Few small diverticula in the sigmoid colon without surrounding fat stranding. No bowel distension or wall thickening.  \\n**Lymph nodes:** Multiple small periportal, paracaval, and aortocaval lymph nodes, the largest measuring 0.9 cm in short-axis diameter, likely reactive.  \\n**Peritoneum, retroperitoneum, and abdominal wall:** No free fluid or free air.  \\n**Vessels:** A 1.4-cm saccular aneurysm with a partially thrombosed and calcified wall arising from the proximal left renal artery. Mild atherosclerotic changes of the abdominal aorta and its major branches.  \\n**Bony structures:** Mild osteopenia. Degenerative changes of the lumbar spine. No suspicious lytic or sclerotic bone lesions.', impression='- Small gallstones at the gallbladder neck with mild gallbladder wall thickening and mild pericholecystic fat stranding; findings suggestive of early acute calculous cholecystitis.  \\n- Mild bile duct wall enhancement along the CBD and intrahepatic bile ducts; possible early acute cholangitis.  \\n- Mild prominence of the CBD without an obvious obstructive lesion.  \\n- Few colonic diverticula without signs of acute diverticulitis.  \\n- No significant change in a 2.4-cm lobulated cortical cyst with thin internal septations at the left kidney (Bosniak II).  \\n- A 1.4-cm saccular aneurysm with partial thrombosis and calcification arising from the proximal left renal artery.')}"
      ]
     },
     "execution_count": 19,
     "metadata": {},
     "output_type": "execute_result"
    }
   ],
   "source": [
    "ex_report_ext"
   ]
  },
  {
   "cell_type": "code",
   "execution_count": 20,
   "metadata": {},
   "outputs": [
    {
     "data": {
      "text/plain": [
       "{'title': '**EMERGENCY MDCT OF THE BRAIN**',\n",
       " 'history': 'A 25-year-old female presents with dizziness and brief loss of consciousness following a minor head impact 3 hours ago. Physical examination reveals no focal neurological deficits. The CT scan was requested to rule out intracranial hemorrhage.',\n",
       " 'technique': 'Axial helical scan of the brain was performed using 2.5-mm (brain) and 1.25-mm (bone) slice thickness with coronal and sagittal reconstructions.',\n",
       " 'comparison': 'None.',\n",
       " 'findings': '**Cerebral parenchyma:** The study reveals age-appropriate brain volume. Normal parenchymal attenuation and gray-white differentiation. The remainder of the imaged cerebral parenchyma appears unremarkable. No acute large territorial infarction or intraparenchymal hemorrhage is identified.\\n\\n**Cerebellum and posterior fossa:** Normal, with a limited evaluation of the brainstem due to beam-hardening artifacts. The cerebellum appears unremarkable.\\n\\n**Extraaxial spaces:** No extra-axial collection is observed.\\n\\n**Ventricles:** Normal size of the ventricular system. No intraventricular hemorrhage.\\n\\n**Midline shift:** None.\\n\\n**Brain herniation:** None.\\n\\n**Vascular system:** Normal.\\n\\n**Calvarium and scalp:** No fracture identified.\\n\\n**Skull base, sella and temporomandibular joints (TMJs):** Normal.\\n\\n**Visualized orbits, paranasal sinuses and mastoid air cells:** Mild mucosal thickening in the right nasal cavity and bilateral maxillary sinuses. The remainder of the visualized orbits, mastoid air cells, and nasopharynx appear unremarkable.\\n\\n**Visualized upper cervical spine:** No fracture identified.',\n",
       " 'impression': '- No intracranial hemorrhage, acute large territorial infarction, extra-axial collection, midline shift, brain herniation, or skull fracture identified.'}"
      ]
     },
     "execution_count": 20,
     "metadata": {},
     "output_type": "execute_result"
    }
   ],
   "source": [
    "ex_report_ext[\"CT-Brain-01.md\"].to_dict()"
   ]
  },
  {
   "cell_type": "code",
   "execution_count": 21,
   "metadata": {},
   "outputs": [
    {
     "data": {
      "text/plain": [
       "'{\"title\": \"**EMERGENCY MDCT OF THE BRAIN**\", \"history\": \"A 25-year-old female presents with dizziness and brief loss of consciousness following a minor head impact 3 hours ago. Physical examination reveals no focal neurological deficits. The CT scan was requested to rule out intracranial hemorrhage.\", \"technique\": \"Axial helical scan of the brain was performed using 2.5-mm (brain) and 1.25-mm (bone) slice thickness with coronal and sagittal reconstructions.\", \"comparison\": \"None.\", \"findings\": \"**Cerebral parenchyma:** The study reveals age-appropriate brain volume. Normal parenchymal attenuation and gray-white differentiation. The remainder of the imaged cerebral parenchyma appears unremarkable. No acute large territorial infarction or intraparenchymal hemorrhage is identified.\\\\n\\\\n**Cerebellum and posterior fossa:** Normal, with a limited evaluation of the brainstem due to beam-hardening artifacts. The cerebellum appears unremarkable.\\\\n\\\\n**Extraaxial spaces:** No extra-axial collection is observed.\\\\n\\\\n**Ventricles:** Normal size of the ventricular system. No intraventricular hemorrhage.\\\\n\\\\n**Midline shift:** None.\\\\n\\\\n**Brain herniation:** None.\\\\n\\\\n**Vascular system:** Normal.\\\\n\\\\n**Calvarium and scalp:** No fracture identified.\\\\n\\\\n**Skull base, sella and temporomandibular joints (TMJs):** Normal.\\\\n\\\\n**Visualized orbits, paranasal sinuses and mastoid air cells:** Mild mucosal thickening in the right nasal cavity and bilateral maxillary sinuses. The remainder of the visualized orbits, mastoid air cells, and nasopharynx appear unremarkable.\\\\n\\\\n**Visualized upper cervical spine:** No fracture identified.\", \"impression\": \"- No intracranial hemorrhage, acute large territorial infarction, extra-axial collection, midline shift, brain herniation, or skull fracture identified.\"}'"
      ]
     },
     "execution_count": 21,
     "metadata": {},
     "output_type": "execute_result"
    }
   ],
   "source": [
    "ex_report_ext[\"CT-Brain-01.md\"].to_json()"
   ]
  },
  {
   "cell_type": "markdown",
   "metadata": {},
   "source": [
    "## Extract Components"
   ]
  },
  {
   "cell_type": "markdown",
   "metadata": {},
   "source": [
    "### Title"
   ]
  },
  {
   "cell_type": "code",
   "execution_count": 9,
   "metadata": {},
   "outputs": [
    {
     "data": {
      "text/plain": [
       "{'CT-Brain-01.txt': 'EMERGENCY MDCT OF THE BRAIN',\n",
       " 'CT-UpperAbd-01.txt': 'EMERGENCY MDCT SCAN OF THE UPPER ABDOMEN',\n",
       " 'MRI-Brain-01.txt': 'MRI OF THE BRAIN',\n",
       " 'MRI-Brain-02.txt': 'MRI AND MRA OF THE BRAIN',\n",
       " 'CT-Brain-01.md': '**EMERGENCY MDCT OF THE BRAIN**',\n",
       " 'CT-RECIST-01.md': '**MDCT OF THE BRAIN, CHEST AND WHOLE ABDOMEN (1st study, baseline scan)**',\n",
       " 'CT-RECIST-02.md': '**MDCT OF THE CHEST AND WHOLE ABDOMEN (2nd study, 1st follow-up scan)**',\n",
       " 'CT-UpperAbd-01.md': '**EMERGENCY MDCT SCAN OF THE UPPER ABDOMEN**'}"
      ]
     },
     "execution_count": 9,
     "metadata": {},
     "output_type": "execute_result"
    }
   ],
   "source": [
    "extract_fn_report(rre.extract_title)"
   ]
  },
  {
   "cell_type": "markdown",
   "metadata": {},
   "source": [
    "### History"
   ]
  },
  {
   "cell_type": "code",
   "execution_count": 18,
   "metadata": {},
   "outputs": [
    {
     "name": "stderr",
     "output_type": "stream",
     "text": [
      "2025-02-14 21:54:33,317 - WARNING [radreportparser] - Start pattern `[^\\w\\n]*History[^\\w\\n]*` appear 2 times in text, only the first one will be matched.\n",
      "2025-02-14 21:54:33,320 - WARNING [radreportparser] - Start pattern `[^\\w\\n]*History[^\\w\\n]*` appear 2 times in text, only the first one will be matched.\n",
      "2025-02-14 21:54:33,322 - WARNING [radreportparser] - Start pattern `[^\\w\\n]*History[^\\w\\n]*` appear 2 times in text, only the first one will be matched.\n"
     ]
    },
    {
     "data": {
      "text/plain": [
       "{'CT-Brain-01.txt': 'HISTORY: A 25-year-old female presents with dizziness and brief loss of consciousness following a minor head impact 3 hours ago. Physical examination reveals no focal neurological deficits. The CT scan was requested to rule out intracranial hemorrhage.',\n",
       " 'CT-UpperAbd-01.txt': 'HISTORY: Known case of HTN and dyslipidemia, presented with epigastric pain and fever for two days. He was sent for rule out acute cholecystitis.',\n",
       " 'MRI-Brain-01.txt': 'History : A 35-year-old female with history of recurrent bilateral optic neuritis and a prior episode of transverse myelitis, tested negative for NMO IgG and oligoclonal bands, was referred for evaluation of the brain and spinal cord.',\n",
       " 'MRI-Brain-02.txt': 'HISTORY: Known case of ischemic stroke in a young patient with positive lupus anticoagulant, presented with right-sided hemiparesis for 12 hours. She was referred to rule out a small vessel infarction.',\n",
       " 'CT-Brain-01.md': '**HISTORY:** A 25-year-old female presents with dizziness and brief loss of consciousness following a minor head impact 3 hours ago. Physical examination reveals no focal neurological deficits. The CT scan was requested to rule out intracranial hemorrhage.',\n",
       " 'CT-RECIST-01.md': '**HISTORY:** \\nA 68-year-old man, known history of metastatic adenocarcinoma of the lung\\nS/P left upper lobectomy, was referred for pre-treatment evaluation (trial PD-001).',\n",
       " 'CT-RECIST-02.md': '**HISTORY:** \\nA 69-year-old man, known history of metastatic lung adenocarcinoma\\nS/P left upper lobectomy, was referred for follow-up evaluation during clinical trial protocol PD-001.',\n",
       " 'CT-UpperAbd-01.md': '**HISTORY:** Known case of HTN and dyslipidemia, presented with epigastric pain and fever for two days. He was sent for rule out acute cholecystitis.'}"
      ]
     },
     "execution_count": 18,
     "metadata": {},
     "output_type": "execute_result"
    }
   ],
   "source": [
    "extract_fn_report(rre.extract_history)"
   ]
  },
  {
   "cell_type": "code",
   "execution_count": 11,
   "metadata": {},
   "outputs": [
    {
     "name": "stderr",
     "output_type": "stream",
     "text": [
      "2025-02-14 21:54:24,438 - WARNING [radreportparser] - Start pattern `[^\\w\\n]*History[^\\w\\n]*` appear 2 times in text, only the first one will be matched.\n",
      "2025-02-14 21:54:24,440 - WARNING [radreportparser] - Start pattern `[^\\w\\n]*History[^\\w\\n]*` appear 2 times in text, only the first one will be matched.\n",
      "2025-02-14 21:54:24,441 - WARNING [radreportparser] - Start pattern `[^\\w\\n]*History[^\\w\\n]*` appear 2 times in text, only the first one will be matched.\n"
     ]
    },
    {
     "data": {
      "text/plain": [
       "{'CT-Brain-01.txt': 'HISTORY: A 25-year-old female presents with dizziness and brief loss of consciousness following a minor head impact 3 hours ago. Physical examination reveals no focal neurological deficits. The CT scan was requested to rule out intracranial hemorrhage.',\n",
       " 'CT-UpperAbd-01.txt': 'HISTORY: Known case of HTN and dyslipidemia, presented with epigastric pain and fever for two days. He was sent for rule out acute cholecystitis.',\n",
       " 'MRI-Brain-01.txt': 'History : A 35-year-old female with history of recurrent bilateral optic neuritis and a prior episode of transverse myelitis, tested negative for NMO IgG and oligoclonal bands, was referred for evaluation of the brain and spinal cord.',\n",
       " 'MRI-Brain-02.txt': 'HISTORY: Known case of ischemic stroke in a young patient with positive lupus anticoagulant, presented with right-sided hemiparesis for 12 hours. She was referred to rule out a small vessel infarction.',\n",
       " 'CT-Brain-01.md': '**HISTORY:** A 25-year-old female presents with dizziness and brief loss of consciousness following a minor head impact 3 hours ago. Physical examination reveals no focal neurological deficits. The CT scan was requested to rule out intracranial hemorrhage.',\n",
       " 'CT-RECIST-01.md': '**HISTORY:** \\nA 68-year-old man, known history of metastatic adenocarcinoma of the lung\\nS/P left upper lobectomy, was referred for pre-treatment evaluation (trial PD-001).',\n",
       " 'CT-RECIST-02.md': '**HISTORY:** \\nA 69-year-old man, known history of metastatic lung adenocarcinoma\\nS/P left upper lobectomy, was referred for follow-up evaluation during clinical trial protocol PD-001.',\n",
       " 'CT-UpperAbd-01.md': '**HISTORY:** Known case of HTN and dyslipidemia, presented with epigastric pain and fever for two days. He was sent for rule out acute cholecystitis.'}"
      ]
     },
     "execution_count": 11,
     "metadata": {},
     "output_type": "execute_result"
    }
   ],
   "source": [
    "extract_fn_report(rre.extract_history, include_key=True)"
   ]
  },
  {
   "cell_type": "markdown",
   "metadata": {},
   "source": [
    "### Technique"
   ]
  },
  {
   "cell_type": "code",
   "execution_count": 12,
   "metadata": {},
   "outputs": [
    {
     "data": {
      "text/plain": [
       "{'CT-Brain-01.txt': 'TECHNIQUES: Axial helical scan of the brain was performed using 2.5-mm (brain) and 1.25-mm (bone) slice thickness with coronal and sagittal reconstructions.',\n",
       " 'CT-UpperAbd-01.txt': 'TECHNIQUES: Axial helical scan of the upper abdomen with 3-mm slice thickness.  \\nThe scan phases included: plain, late arterial, portovenous, and delayed 3-minute (liver).  \\nIntravenous contrast brand, concentration, volume: Visipaque320; 70 ml.  \\nOther route(s) of contrast: Oral (limited water)  \\nFasting (NPO) time: N/A  \\nImmediate complication: none.  \\nEstimated radiation dose: 9.2154 mGy, 1085.42 mGycm. Standard DRL recommended by the American College of Radiology and European Commission = 25 mGy, 900 mGycm. Values reported for 16-32-cm PMMA phantom. Uncertainties associated with this method are approximately 20%. Size-dependent factors have not been incorporated.',\n",
       " 'MRI-Brain-01.txt': 'Technique :  \\nBrain  \\nSagittal MDEFT T1W, FLAIR FS + Gd with axial reconstruction  \\nAxial SE T1W, TSE T2WFS, DWI with ADC and EDC mapping, SWI, THRIVE + Gd with sagittal and coronal reconstruction  \\nCoronal FFE T2W  \\n\\nWhole spine  \\nSagittal T1W -/+ Gd, T2W, STIR  \\nAxial T1W -/+ Gd, TSE T2W, FFE T2W  \\nCoronal T2WFS',\n",
       " 'MRI-Brain-02.txt': 'TECHNIQUES:  \\nSagittal SE T1W  \\nAxial SE T1W, TSE T2W FS, DWI with ADC mapping, SWI, T2W FLAIR  \\nCoronal GRE T2W  \\nTOF MRA of the brain and neck',\n",
       " 'CT-Brain-01.md': '**TECHNIQUES:** Axial helical scan of the brain was performed using 2.5-mm (brain) and 1.25-mm (bone) slice thickness with coronal and sagittal reconstructions.',\n",
       " 'CT-RECIST-01.md': '**Technique:** \\nAxial scans of the brain, chest, and whole abdomen were performed with IV\\ncontrast material as per standard departmental protocol.    \\n\\n    \\n\\n**CT BRAIN**',\n",
       " 'CT-RECIST-02.md': '**Technique:**\\n Axial scans of the brain, chest, and whole abdomen were performed with IV\\ncontrast material as per standard departmental protocol.',\n",
       " 'CT-UpperAbd-01.md': '**TECHNIQUES:** Axial helical scan of the upper abdomen with 3-mm slice thickness.  \\n**The scan phases included:** plain, late arterial, portovenous, and delayed 3-minute (liver).  \\nIntravenous contrast brand, concentration, volume: Visipaque320; 70 ml.  \\n**Other route(s) of contrast:** Oral (limited water)  \\n**Fasting (NPO) time:** N/A  \\n**Immediate complication:** none.  \\n**Estimated radiation dose:** 9.2154 mGy, 1085.42 mGycm. Standard DRL recommended by the American College of Radiology and European Commission = 25 mGy, 900 mGycm. Values reported for 16-32-cm PMMA phantom. Uncertainties associated with this method are approximately 20%. Size-dependent factors have not been incorporated.'}"
      ]
     },
     "execution_count": 12,
     "metadata": {},
     "output_type": "execute_result"
    }
   ],
   "source": [
    "extract_fn_report(rre.extract_technique, include_key=True)"
   ]
  },
  {
   "cell_type": "markdown",
   "metadata": {},
   "source": [
    "### Comparison"
   ]
  },
  {
   "cell_type": "code",
   "execution_count": 13,
   "metadata": {},
   "outputs": [
    {
     "name": "stderr",
     "output_type": "stream",
     "text": [
      "2025-02-14 21:54:24,451 - WARNING [radreportparser] - Start pattern `[^\\w\\n]*Comparison(s?)[^\\w\\n]*` appear 2 times in text, only the first one will be matched.\n"
     ]
    },
    {
     "data": {
      "text/plain": [
       "{'CT-Brain-01.txt': 'COMPARISON: None.',\n",
       " 'CT-UpperAbd-01.txt': 'COMPARISON: US of the upper abdomen dated 05/08/2024.',\n",
       " 'MRI-Brain-01.txt': 'Comparison : MRI of the brain and orbit dated 07/11/2018.',\n",
       " 'MRI-Brain-02.txt': 'COMPARISON: CT of the brain 15/09/2019.',\n",
       " 'CT-Brain-01.md': '**COMPARISON:** None.',\n",
       " 'CT-RECIST-01.md': '**COMPARISON:**\\n None.',\n",
       " 'CT-RECIST-02.md': '**COMPARISON:**\\n Prior baseline CT chest and whole abdomen obtained on 05/08/2023.',\n",
       " 'CT-UpperAbd-01.md': '**COMPARISON:** US of the upper abdomen dated 05/08/2024.'}"
      ]
     },
     "execution_count": 13,
     "metadata": {},
     "output_type": "execute_result"
    }
   ],
   "source": [
    "extract_fn_report(rre.extract_comparison, include_key=True)"
   ]
  },
  {
   "cell_type": "markdown",
   "metadata": {},
   "source": [
    "### Findings"
   ]
  },
  {
   "cell_type": "code",
   "execution_count": 14,
   "metadata": {},
   "outputs": [
    {
     "name": "stderr",
     "output_type": "stream",
     "text": [
      "2025-02-14 21:54:24,456 - WARNING [radreportparser] - Start pattern `[^\\w\\n]*Finding(s?)[^\\w\\n]*` appear 2 times in text, only the first one will be matched.\n",
      "2025-02-14 21:54:24,457 - WARNING [radreportparser] - Start pattern `[^\\w\\n]*Finding(s?)[^\\w\\n]*` appear 3 times in text, only the first one will be matched.\n",
      "2025-02-14 21:54:24,458 - WARNING [radreportparser] - Start pattern `[^\\w\\n]*Finding(s?)[^\\w\\n]*` appear 3 times in text, only the first one will be matched.\n",
      "2025-02-14 21:54:24,458 - WARNING [radreportparser] - Start pattern `[^\\w\\n]*Finding(s?)[^\\w\\n]*` appear 2 times in text, only the first one will be matched.\n",
      "2025-02-14 21:54:24,459 - WARNING [radreportparser] - Start pattern `[^\\w\\n]*Finding(s?)[^\\w\\n]*` appear 2 times in text, only the first one will be matched.\n"
     ]
    },
    {
     "data": {
      "text/plain": [
       "{'CT-Brain-01.txt': 'FINDINGS:\\n\\nCerebral parenchyma: The study reveals age-appropriate brain volume. Normal parenchymal attenuation and gray-white differentiation. The remainder of the imaged cerebral parenchyma appears unremarkable. No acute large territorial infarction or intraparenchymal hemorrhage is identified.\\n\\nCerebellum and posterior fossa: Normal, with a limited evaluation of the brainstem due to beam-hardening artifacts. The cerebellum appears unremarkable.\\n\\nExtraaxial spaces: No extra-axial collection is observed.\\n\\nVentricles: Normal size of the ventricular system. No intraventricular hemorrhage.\\n\\nMidline shift: None.\\n\\nBrain herniation: None.\\n\\nVascular system: Normal.\\n\\nCalvarium and scalp: No fracture identified.\\n\\nSkull base, sella and temporomandibular joints (TMJs): Normal.\\n\\nVisualized orbits, paranasal sinuses and mastoid air cells: Mild mucosal thickening in the right nasal cavity and bilateral maxillary sinuses. The remainder of the visualized orbits, mastoid air cells, and nasopharynx appear unremarkable.\\n\\nVisualized upper cervical spine: No fracture identified.',\n",
       " 'CT-UpperAbd-01.txt': 'FINDINGS:  \\nLower thorax: Minimal bibasilar atelectasis. No mass, consolidation, or tree-in-bud opacity. Normal heart size without pericardial effusion.  \\nLiver, hepatic vasculature, bile ducts, and gallbladder:  \\n- Mildly distended gallbladder containing a few small gallstones (up to 4 mm) at the gallbladder neck, with mild gallbladder wall thickening (about 3 mm), slight pericholecystic fat stranding, and subtle surrounding hyperemia. No pericholecystic fluid collection.  \\n- Mildly prominent CBD (up to 8 mm) with mild bile duct wall thickening and enhancement of the CBD and intrahepatic ducts. No radiopaque bile duct stone.  \\n- Diffuse hepatic steatosis without focal hepatic lesion. Patent IVC, hepatic veins, and portal veins.  \\nPancreas: No focal pancreatic lesion or ductal dilatation.  \\nSpleen: Normal size. No focal lesions.  \\nAdrenals: No adrenal nodules.  \\nKidneys and proximal ureters: Normal size, parenchymal enhancement, and excretory function of both kidneys. No significant change of a 2.4-cm lobulated cortical cyst with thin internal septations at the mid-pole of the left kidney. No stones, hydronephrosis, or mass.  \\nBowel and mesentery: Few small diverticula in the sigmoid colon without surrounding fat stranding. No bowel distension or wall thickening.  \\nLymph nodes: Multiple small periportal, paracaval, and aortocaval lymph nodes, the largest measuring 0.9 cm in short-axis diameter, likely reactive.  \\nPeritoneum, retroperitoneum, and abdominal wall: No free fluid or free air.  \\nVessels: A 1.4-cm saccular aneurysm with a partially thrombosed and calcified wall arising from the proximal left renal artery. Mild atherosclerotic changes of the abdominal aorta and its major branches.  \\nBony structures: Mild osteopenia. Degenerative changes of the lumbar spine. No suspicious lytic or sclerotic bone lesions.',\n",
       " 'MRI-Brain-01.txt': 'Findings :  \\nBrain  \\nThe current study demonstrates no significant change in the T2/FLAIR hyperintense foci at the splenium and body of the corpus callosum, extending into the callososeptal interface. No significant interval change in multiple hyperintense T2/FLAIR lesions involving bilateral thalami, centrum semiovale, and subcortical white matter of the bilateral frontal and parietal lobes. No new lesion is identified. Findings suggest stable disease in the context of an ongoing demyelinating process. The remainder of the brain parenchyma and ventricular system appear within normal limits. No T1 hypointensity or abnormal post-contrast enhancement is observed. There is no evidence of intracranial hemorrhage, acute infarction, midline shift, hydrocephalus, extra-axial collection, or brain herniation.  \\n\\nWhole spine  \\nThe study reveals a mild T2 hyperintense signal involving a substantial cross-section of the spinal cord. The full extent of the lesion is difficult to delineate, but grossly, it spans a long segment, nearly the entire spinal cord.  \\nVertebral marrow signal appears within normal limits.  \\nThe conus medullaris terminates at the L1-2 level and exhibits normal morphology.  \\nThe cauda equina nerve roots are symmetrically arranged.  \\nNo abnormal enhancement or leptomeningeal enhancement is detected.',\n",
       " 'MRI-Brain-02.txt': 'FINDINGS:  \\nThe study demonstrates normal gray-white matter differentiation in the brain parenchyma. The ventricular system and cortical sulci are within normal limits. The brainstem and cerebellum appear unremarkable.  \\n\\nNo evidence of acute infarction, recent intraparenchymal hemorrhage, extra-axial collection, hydrocephalus, or brain herniation.  \\n\\nThe calvarium and skull base show normal marrow signal intensity. A mucous retention cyst is noted in the left maxillary sinus. The orbits, other paranasal sinuses, and mastoid air cells appear within normal limits. No interval change in a small cyst at the left paramedian nasopharynx, likely a Thornwaldt cyst.  \\n\\nThe TOF MRA study demonstrates decreased flow-related enhancement at bilateral cavernous ICAs, which may represent an in-plane flow artifact. Hypoplasia of the A1 segment of the right ACA is observed as a normal anatomic variant. The remaining intracranial and cervical vessels show no significant stenosis, aneurysm, or vascular malformation.',\n",
       " 'CT-Brain-01.md': '**FINDINGS:**\\n\\n**Cerebral parenchyma:** The study reveals age-appropriate brain volume. Normal parenchymal attenuation and gray-white differentiation. The remainder of the imaged cerebral parenchyma appears unremarkable. No acute large territorial infarction or intraparenchymal hemorrhage is identified.\\n\\n**Cerebellum and posterior fossa:** Normal, with a limited evaluation of the brainstem due to beam-hardening artifacts. The cerebellum appears unremarkable.\\n\\n**Extraaxial spaces:** No extra-axial collection is observed.\\n\\n**Ventricles:** Normal size of the ventricular system. No intraventricular hemorrhage.\\n\\n**Midline shift:** None.\\n\\n**Brain herniation:** None.\\n\\n**Vascular system:** Normal.\\n\\n**Calvarium and scalp:** No fracture identified.\\n\\n**Skull base, sella and temporomandibular joints (TMJs):** Normal.\\n\\n**Visualized orbits, paranasal sinuses and mastoid air cells:** Mild mucosal thickening in the right nasal cavity and bilateral maxillary sinuses. The remainder of the visualized orbits, mastoid air cells, and nasopharynx appear unremarkable.\\n\\n**Visualized upper cervical spine:** No fracture identified.',\n",
       " 'CT-RECIST-01.md': '**FINDINGS:**    \\n\\n  \\xa0\\xa0\\xa0 \\nThe study shows normal brain parenchymal attenuation.    \\n\\nNo evidence of focal mass or significant leptomeningeal enhancement. No large\\ninfarction, acute intracranial hemorrhage, extra-axial collection, hydrocephalus, or brain herniation.    \\n\\nMild atherosclerosis of bilateral cavernous ICAs is noted. The\\nparanasal sinuses, mastoid air cells, orbits, and bony structures appear unremarkable.   \\n\\n    \\n\\n**CT OF THE CHEST AND WHOLE ABDOMEN**    \\n\\n   \\n\\n**COMPARISON:** \\nPrevious CT of the chest and upper abdomen performed on 14/05/2021.\\n  \\n\\n**FINDINGS:**    \\n\\n**Tube and line:** \\nNone.    \\n\\n**Lungs and airways:**\\n Post left upper lobectomy with interval progression in size of\\nan irregular enhancing soft tissue mass at the LLL near the bronchial stump, now measuring approximately\\n1.8x2.5 cm from 1.6x2.1 cm in transaxial dimension. The mass encroaches upon the LLL bronchus, leading to\\npartial collapse.    \\n\\nMultiple peribronchial nodules and part-solid masses with irregular\\nmargins at the left lower lobe have increased in size, the largest now measuring 3.5x4.8 cm (Im 64, Se 302).\\nTwo additional dominant nodules in the left lower lobe measure 2.9 cm (Im 89, Se 302; target lesion#1) and\\n3.3 cm (Im 104, Se 302; target lesion#2).    \\n\\nA tiny stable ground-glass nodule at the apicoposterior segment of the RUL\\n(4 mm, Im 42, Se302). No significant fibrosis in bilateral lower lobes.   \\n\\n**Pleura:**\\n Enlargement of a nodular pleural thickening along the left 6th-7th\\nposterior costal pleura, now measuring up to 1.7x3.5 cm (Im 72, Se701). Small left-sided pleural effusion is\\npresent. No pneumothorax.    \\n\\n**Mediastinum:** \\nNo significant mediastinal or hilar lymphadenopathy. Normal heart\\nsize without pericardial effusion. No abnormality of visualized thoracic aorta or esophagus.    \\n\\n**Target lesions**    \\n\\n1. A pulmonary nodule in the left lower lobe, size = 2.9 cm (Im 89, Se 302; target lesion#1)    \\n\\n2. A pulmonary nodule in the left lower lobe, size = 3.3 cm (Im 104, Se 302; target lesion#2)   \\n   \\n\\n**Sum of longest diameter of target lesions = 6.2 cm = 62 mm**\\n   \\n\\n**Evaluation of target lesions = Baseline study**',\n",
       " 'CT-RECIST-02.md': '**FINDINGS:**    \\n\\n**Tube and line:**\\n None.    \\n\\n**Lungs and airways:** \\n Post left upper lobectomy with no significant interval change in the\\nheterogeneous enhancing soft tissue mass at the LLL near the bronchial stump, now measuring 1.7x2.4 cm\\nin transaxial dimension. The soft tissue mass involves the LLL bronchus, leading to partial collapse.\\n   \\n\\n  \\xa0\\xa0\\xa0 \\nThere is a slight reduction in size of multiple peribronchial part-solid nodules and masses with irregular\\nmargins in the LLL, with target lesion#1 decreasing from 2.65 cm to 2.38 cm in the greatest transaxial diameter\\n(target#1; Im 78 Se 210), and target lesion#2 decreasing from 3.10 cm to 2.91 cm (target#2; Im 92 Se 210).\\nThe largest lesion with pleural attachment and adjacent subsegmental atelectasis in the superior segment of\\nthe LLL has decreased from 3.5x4.6 cm to 3.3x3.8 cm (Im 58 Se 210).    \\n\\n  \\xa0\\xa0\\xa0 \\nHowever, there is a mild increase in size of a part-solid nodule in the superior segment of the LLL\\n(Im 59 Se 210) from 0.70 cm to 1.15 cm. No significant interval change of a tiny ground-glass nodule in the\\napicoposterior segment of the RUL. No interval change in fibrosis at bilateral lower lobes and inferior\\nlingular segment of the LUL.    \\n\\n**Pleura:**\\n No significant change in the nodular pleural thickening along the left\\n6th-7th posterior costal pleura, now measuring up to 1.4x3.3 cm (Im 58, Se 602). Small left-sided pleural\\neffusion persists. No pneumothorax.    \\n\\n**Mediastinum:** \\n No significant mediastinal or hilar lymphadenopathy. Normal heart\\nsize without pericardial effusion. No abnormalities in visualized thoracic aorta or esophagus.    \\n\\n**Target lesions**    \\n\\n 1. Slight decrease in size of the pulmonary nodule in the left lower lobe,\\nnow 2.38 cm from 2.65 cm (Im 78 Se 210; target lesion#1).    \\n\\n 2. Slight decrease in size of the pulmonary nodule in the left lower lobe,\\nnow 2.91 cm from 3.10 cm (Im 92 Se 210; target lesion#2).    \\n\\n    \\n\\n Sum of longest diameter of target lesions = 5.29 cm = 52.9 mm from\\nbaseline 57.5 mm (8% decrease in SLD of the two target lesions).    \\n\\n **Evaluation of target lesions = Stable disease**',\n",
       " 'CT-UpperAbd-01.md': '**FINDINGS:**  \\n**Lower thorax:** Minimal bibasilar atelectasis. No mass, consolidation, or tree-in-bud opacity. Normal heart size without pericardial effusion.  \\n**Liver, hepatic vasculature, bile ducts, and gallbladder:**  \\n- Mildly distended gallbladder containing a few small gallstones (up to 4 mm) at the gallbladder neck, with mild gallbladder wall thickening (about 3 mm), slight pericholecystic fat stranding, and subtle surrounding hyperemia. No pericholecystic fluid collection.  \\n- Mildly prominent CBD (up to 8 mm) with mild bile duct wall thickening and enhancement of the CBD and intrahepatic ducts. No radiopaque bile duct stone.  \\n- Diffuse hepatic steatosis without focal hepatic lesion. Patent IVC, hepatic veins, and portal veins.  \\n**Pancreas:** No focal pancreatic lesion or ductal dilatation.  \\n**Spleen:** Normal size. No focal lesions.  \\n**Adrenals:** No adrenal nodules.  \\n**Kidneys and proximal ureters:** Normal size, parenchymal enhancement, and excretory function of both kidneys. No significant change of a 2.4-cm lobulated cortical cyst with thin internal septations at the mid-pole of the left kidney. No stones, hydronephrosis, or mass.  \\n**Bowel and mesentery:** Few small diverticula in the sigmoid colon without surrounding fat stranding. No bowel distension or wall thickening.  \\n**Lymph nodes:** Multiple small periportal, paracaval, and aortocaval lymph nodes, the largest measuring 0.9 cm in short-axis diameter, likely reactive.  \\n**Peritoneum, retroperitoneum, and abdominal wall:** No free fluid or free air.  \\n**Vessels:** A 1.4-cm saccular aneurysm with a partially thrombosed and calcified wall arising from the proximal left renal artery. Mild atherosclerotic changes of the abdominal aorta and its major branches.  \\n**Bony structures:** Mild osteopenia. Degenerative changes of the lumbar spine. No suspicious lytic or sclerotic bone lesions.'}"
      ]
     },
     "execution_count": 14,
     "metadata": {},
     "output_type": "execute_result"
    }
   ],
   "source": [
    "extract_fn_report(rre.extract_findings, include_key=True)"
   ]
  },
  {
   "cell_type": "code",
   "execution_count": 15,
   "metadata": {},
   "outputs": [
    {
     "name": "stderr",
     "output_type": "stream",
     "text": [
      "2025-02-14 21:54:24,464 - WARNING [radreportparser] - Start pattern `[^\\w\\n]*Finding(s?)[^\\w\\n]*` appear 3 times in text, only the first one will be matched.\n"
     ]
    },
    {
     "data": {
      "text/plain": [
       "'**FINDINGS:**    \\n\\n  \\xa0\\xa0\\xa0 \\nThe study shows normal brain parenchymal attenuation.    \\n\\nNo evidence of focal mass or significant leptomeningeal enhancement. No large\\ninfarction, acute intracranial hemorrhage, extra-axial collection, hydrocephalus, or brain herniation.    \\n\\nMild atherosclerosis of bilateral cavernous ICAs is noted. The\\nparanasal sinuses, mastoid air cells, orbits, and bony structures appear unremarkable.   \\n\\n    \\n\\n**CT OF THE CHEST AND WHOLE ABDOMEN**    \\n\\n   \\n\\n**COMPARISON:** \\nPrevious CT of the chest and upper abdomen performed on 14/05/2021.\\n  \\n\\n**FINDINGS:**    \\n\\n**Tube and line:** \\nNone.    \\n\\n**Lungs and airways:**\\n Post left upper lobectomy with interval progression in size of\\nan irregular enhancing soft tissue mass at the LLL near the bronchial stump, now measuring approximately\\n1.8x2.5 cm from 1.6x2.1 cm in transaxial dimension. The mass encroaches upon the LLL bronchus, leading to\\npartial collapse.    \\n\\nMultiple peribronchial nodules and part-solid masses with irregular\\nmargins at the left lower lobe have increased in size, the largest now measuring 3.5x4.8 cm (Im 64, Se 302).\\nTwo additional dominant nodules in the left lower lobe measure 2.9 cm (Im 89, Se 302; target lesion#1) and\\n3.3 cm (Im 104, Se 302; target lesion#2).    \\n\\nA tiny stable ground-glass nodule at the apicoposterior segment of the RUL\\n(4 mm, Im 42, Se302). No significant fibrosis in bilateral lower lobes.   \\n\\n**Pleura:**\\n Enlargement of a nodular pleural thickening along the left 6th-7th\\nposterior costal pleura, now measuring up to 1.7x3.5 cm (Im 72, Se701). Small left-sided pleural effusion is\\npresent. No pneumothorax.    \\n\\n**Mediastinum:** \\nNo significant mediastinal or hilar lymphadenopathy. Normal heart\\nsize without pericardial effusion. No abnormality of visualized thoracic aorta or esophagus.    \\n\\n**Target lesions**    \\n\\n1. A pulmonary nodule in the left lower lobe, size = 2.9 cm (Im 89, Se 302; target lesion#1)    \\n\\n2. A pulmonary nodule in the left lower lobe, size = 3.3 cm (Im 104, Se 302; target lesion#2)   \\n   \\n\\n**Sum of longest diameter of target lesions = 6.2 cm = 62 mm**\\n   \\n\\n**Evaluation of target lesions = Baseline study**'"
      ]
     },
     "execution_count": 15,
     "metadata": {},
     "output_type": "execute_result"
    }
   ],
   "source": [
    "rre.extract_findings(ex_report[\"md\"][\"CT-RECIST-01.md\"])"
   ]
  },
  {
   "cell_type": "markdown",
   "metadata": {},
   "source": [
    "### Impression"
   ]
  },
  {
   "cell_type": "code",
   "execution_count": 16,
   "metadata": {},
   "outputs": [
    {
     "data": {
      "text/plain": [
       "{'CT-Brain-01.txt': 'IMPRESSION:\\n- No intracranial hemorrhage, acute large territorial infarction, extra-axial collection, midline shift, brain herniation, or skull fracture identified.',\n",
       " 'CT-UpperAbd-01.txt': 'IMPRESSION:  \\n- Small gallstones at the gallbladder neck with mild gallbladder wall thickening and mild pericholecystic fat stranding; findings suggestive of early acute calculous cholecystitis.  \\n- Mild bile duct wall enhancement along the CBD and intrahepatic bile ducts; possible early acute cholangitis.  \\n- Mild prominence of the CBD without an obvious obstructive lesion.  \\n- Few colonic diverticula without signs of acute diverticulitis.  \\n- No significant change in a 2.4-cm lobulated cortical cyst with thin internal septations at the left kidney (Bosniak II).  \\n- A 1.4-cm saccular aneurysm with partial thrombosis and calcification arising from the proximal left renal artery.',\n",
       " 'MRI-Brain-01.txt': 'Impression :  \\nStable intracranial lesions with extensive longitudinal spinal cord involvement, suggestive of a demyelinating process, with findings favoring NMO over MS.',\n",
       " 'MRI-Brain-02.txt': 'IMPRESSION:  \\n- No acute infarction detected.  \\n- Decreased flow-related enhancement at bilateral cavernous ICAs may be due to in-plane flow artifact.',\n",
       " 'CT-Brain-01.md': '**IMPRESSION:**\\n- No intracranial hemorrhage, acute large territorial infarction, extra-axial collection, midline shift, brain herniation, or skull fracture identified.',\n",
       " 'CT-RECIST-01.md': '**IMPRESSION:**    \\n\\n**BRAIN**    \\n\\n- Unremarkable brain CT.    \\n\\n    \\n\\n**CHEST, AND WHOLE ABDOMEN**    \\n\\n - Status post left upper lobectomy with interval increase in the size of the\\nsoft tissue at the LLL near the surgical site, leading to partial collapse. \\n**Findings concerning for progression of recurrent lung cancer.**    \\n\\n **- Suggestive of worsening pulmonary metastases in the left lung.**    \\n\\n - Stable ground-glass nodule at the RUL, indeterminate etiology,\\nfollow-up recommended.   \\n\\n - Increasing thickness of pleural nodularity along the left 6th-7th ribs,\\npossible progressive pleural metastasis. Follow-up advised.',\n",
       " 'CT-RECIST-02.md': '**IMPRESSION:**    \\n\\n - Status post left upper lobectomy with stable soft tissue mass at the\\nLLL near the surgical site, leading to partial collapse. Findings remain concerning for persistent/recurrent\\nlung cancer.    \\n\\n - Slight regression of multiple metastatic pulmonary masses in the left\\nlung.    \\n\\n - Increase in size of a 1.15-cm part-solid nodule in the LLL,\\nuncertain nature, and possibly representing progressive pulmonary metastasis or an emerging primary tumor.\\nClose follow-up is advised.    \\n\\n - No significant change in a tiny ground-glass nodule in the RUL,\\nindeterminate significance. Surveillance recommended.    \\n\\n - No interval change in nodular pleural thickening along the left 6th-7th\\nribs, possibly representing pleural metastasis or post-surgical scarring. Follow-up suggested.    \\n\\n - No intra-thoracic or upper abdominal lymphadenopathy.    \\n\\n - No interval change in a small hepatic cyst, renal cysts, or bilateral\\nrenal AMLs.    \\n\\n - No interval change in multiple small hypodense thyroid nodules.',\n",
       " 'CT-UpperAbd-01.md': '**IMPRESSION:**  \\n- Small gallstones at the gallbladder neck with mild gallbladder wall thickening and mild pericholecystic fat stranding; findings suggestive of early acute calculous cholecystitis.  \\n- Mild bile duct wall enhancement along the CBD and intrahepatic bile ducts; possible early acute cholangitis.  \\n- Mild prominence of the CBD without an obvious obstructive lesion.  \\n- Few colonic diverticula without signs of acute diverticulitis.  \\n- No significant change in a 2.4-cm lobulated cortical cyst with thin internal septations at the left kidney (Bosniak II).  \\n- A 1.4-cm saccular aneurysm with partial thrombosis and calcification arising from the proximal left renal artery.'}"
      ]
     },
     "execution_count": 16,
     "metadata": {},
     "output_type": "execute_result"
    }
   ],
   "source": [
    "extract_fn_report(rre.extract_impression, include_key=True)"
   ]
  }
 ],
 "metadata": {
  "kernelspec": {
   "display_name": "llm-env",
   "language": "python",
   "name": "python3"
  },
  "language_info": {
   "codemirror_mode": {
    "name": "ipython",
    "version": 3
   },
   "file_extension": ".py",
   "mimetype": "text/x-python",
   "name": "python",
   "nbconvert_exporter": "python",
   "pygments_lexer": "ipython3",
   "version": "3.12.2"
  }
 },
 "nbformat": 4,
 "nbformat_minor": 2
}
