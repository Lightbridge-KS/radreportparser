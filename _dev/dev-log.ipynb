{
 "cells": [
  {
   "cell_type": "markdown",
   "metadata": {},
   "source": [
    "# Dev: Logging"
   ]
  },
  {
   "cell_type": "code",
   "execution_count": 1,
   "metadata": {},
   "outputs": [],
   "source": [
    "import re"
   ]
  },
  {
   "cell_type": "markdown",
   "metadata": {},
   "source": [
    "## Validate Pattern Occure Once"
   ]
  },
  {
   "cell_type": "code",
   "execution_count": 7,
   "metadata": {},
   "outputs": [],
   "source": [
    "import logging\n",
    "\n",
    "def _warn_dup_pattern(\n",
    "    text: str,\n",
    "    keys: list[str], \n",
    "    word_boundary: bool = True,\n",
    "    flags: re.RegexFlag = re.IGNORECASE\n",
    "):\n",
    "    for key in keys:\n",
    "        count = len(re.findall(key, text, flags))\n",
    "        if count >= 2:\n",
    "            logging.warning(\"Match `%s` pattern %d times\\n\", key, count)\n",
    "        else:\n",
    "            return"
   ]
  },
  {
   "cell_type": "code",
   "execution_count": 8,
   "metadata": {},
   "outputs": [
    {
     "name": "stderr",
     "output_type": "stream",
     "text": [
      "WARNING:root:Match `hel\\w+\\d` pattern 2 times\n",
      "\n"
     ]
    }
   ],
   "source": [
    "text = \"Hell1 World Hello1\"\n",
    "pattern = [r\"hel\\w+\\d\", \"wor\"]\n",
    "\n",
    "_warn_dup_pattern(text, pattern)"
   ]
  },
  {
   "cell_type": "markdown",
   "metadata": {},
   "source": [
    "### HowTo: Count Number of Pattern"
   ]
  },
  {
   "cell_type": "code",
   "execution_count": null,
   "metadata": {},
   "outputs": [
    {
     "name": "stdout",
     "output_type": "stream",
     "text": [
      "2\n"
     ]
    }
   ],
   "source": [
    "import re\n",
    "\n",
    "text = \"Hell1 World Hello1\"\n",
    "pattern = r\"hel\\w+\\d\"\n",
    "\n",
    "# Count occurrences\n",
    "count = len(re.findall(pattern, text, re.IGNORECASE))\n",
    "print(count) "
   ]
  }
 ],
 "metadata": {
  "kernelspec": {
   "display_name": "llm-env",
   "language": "python",
   "name": "python3"
  },
  "language_info": {
   "codemirror_mode": {
    "name": "ipython",
    "version": 3
   },
   "file_extension": ".py",
   "mimetype": "text/x-python",
   "name": "python",
   "nbconvert_exporter": "python",
   "pygments_lexer": "ipython3",
   "version": "3.12.2"
  }
 },
 "nbformat": 4,
 "nbformat_minor": 2
}
