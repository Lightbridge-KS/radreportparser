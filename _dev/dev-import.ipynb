{
 "cells": [
  {
   "cell_type": "markdown",
   "metadata": {},
   "source": [
    "# Dev: Import Report"
   ]
  },
  {
   "cell_type": "code",
   "execution_count": 28,
   "metadata": {},
   "outputs": [],
   "source": [
    "import sys\n",
    "import os\n",
    "from pathlib import Path\n",
    "import pandas as pd\n",
    "from IPython.display import display_markdown, Image\n",
    "\n",
    "from markdownify import markdownify as md\n",
    "\n",
    "sys.path.insert(1, str(Path.cwd().parent)) \n",
    "\n",
    "from fs import read_text_dir, write_text_file"
   ]
  },
  {
   "cell_type": "markdown",
   "metadata": {},
   "source": [
    "### Example Reports"
   ]
  },
  {
   "cell_type": "code",
   "execution_count": 31,
   "metadata": {},
   "outputs": [],
   "source": [
    "ex_report_raw = {\n",
    "    \"plain\": read_text_dir(\"../report/generated/plain\"),\n",
    "    \"md\": read_text_dir(\"../report/generated/md\"),\n",
    "    \"html\": read_text_dir(\"../report/generated/html\"),\n",
    "}\n",
    "\n",
    "ex_report_raw[\"html_to_md\"] = {k.replace(\"html\", \"md\"): md(v) for k, v in ex_report[\"html\"].items()}\n"
   ]
  },
  {
   "cell_type": "code",
   "execution_count": null,
   "metadata": {},
   "outputs": [
    {
     "name": "stdout",
     "output_type": "stream",
     "text": [
      "Text successfully written to ../report/generated/md/CT-RECIST-01.md.\n",
      "Text successfully written to ../report/generated/md/CT-RECIST-02.md.\n"
     ]
    }
   ],
   "source": [
    "# Write File\n",
    "\n",
    "for k, v in ex_report_raw[\"html_to_md\"].items():\n",
    "    write_text_file(v, Path(\"../report/generated/md\", k))\n"
   ]
  }
 ],
 "metadata": {
  "kernelspec": {
   "display_name": "llm-env",
   "language": "python",
   "name": "python3"
  },
  "language_info": {
   "codemirror_mode": {
    "name": "ipython",
    "version": 3
   },
   "file_extension": ".py",
   "mimetype": "text/x-python",
   "name": "python",
   "nbconvert_exporter": "python",
   "pygments_lexer": "ipython3",
   "version": "3.12.2"
  }
 },
 "nbformat": 4,
 "nbformat_minor": 2
}
