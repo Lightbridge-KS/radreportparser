{
 "cells": [
  {
   "cell_type": "markdown",
   "metadata": {},
   "source": [
    "# Dev: History"
   ]
  },
  {
   "cell_type": "code",
   "execution_count": null,
   "metadata": {},
   "outputs": [],
   "source": [
    "import sys\n",
    "import os\n",
    "import re\n",
    "from pathlib import Path\n",
    "import pandas as pd\n",
    "from IPython.display import display_markdown, Image\n",
    "\n",
    "sys.path.insert(1, str(Path.cwd().parent)) \n",
    "\n",
    "from report.ex_snip import snip_hx_plain\n",
    "from radreportparser import SectionExtractor\n",
    "from radreportparser.key import _get_first_key_match"
   ]
  },
  {
   "cell_type": "code",
   "execution_count": 54,
   "metadata": {},
   "outputs": [],
   "source": [
    "# Plain text\n",
    "snip_hx_plain = {\n",
    "    ## Basic\n",
    "    \"basic\": \"\"\"\n",
    "MRI OF THE BRAIN AND ORBITS \n",
    "\n",
    "History: MALT lymphoma at the right orbit S/P chemotherapy was sent to follow-up. \n",
    "\n",
    "Technique: \n",
    "Sagittal SE T1W \n",
    "3D FSE FLAIR FS +Gd with MPR \n",
    "\n",
    "Comparison: Limited comparison to the MRI brain on 4-6-2022 \n",
    "\"\"\", \n",
    "    ## No newline\n",
    "    \"no_newline\": \"\"\"\n",
    "MDCT OF THE NECK   Indication: A 58-year-old man, known case of nasopharyngeal cancer (T4N2M1) with lung metastasis   Technique: Post contrast enhanced axial scan of the neck using 1.0 mm slice thickness with 3.0 mm axial, coronal and sagittal reformation   Comparison: The prior CT of the neck taken on October 4, 2015   Findings:  \tThe current study reveals slight shrinkage but no significant change in extension of the preexisting ill-defined hypodense lesion with partial mild enhancement in some portions, epicenter at the left-sided nasopharynx. Extension of the lesion is described as follow;  ... Superior: No interval change of extension into the left foramen Ovale and left inferior orbital fissure. No significant change of few enhancing foci in the left inferior temporal lobe.  ... Anterior: Involvement of the left infratemporal fossa, left PPF, left retroantral space, and left masticator space. Erosion and sclerotic change of the left pterygoid bone and posterior wall of the left maxillary sinus, unchanged.\n",
    "\"\"\"\n",
    "}"
   ]
  },
  {
   "cell_type": "markdown",
   "metadata": {},
   "source": [
    "## `extract_history()`"
   ]
  },
  {
   "cell_type": "code",
   "execution_count": 4,
   "metadata": {},
   "outputs": [],
   "source": [
    "from typing import List\n",
    "\n",
    "\n",
    "def extract_history(\n",
    "    text: str,\n",
    "    include_key: bool = True,\n",
    "    start_keys: List[str] = [\"history\", \"indication\"],\n",
    "    end_keys: List[str] = [\"technique\", \"comparison\", \"finding\", \"impression\"],\n",
    "    regex: bool = False,\n",
    ") -> str:\n",
    "    start_key_matched = _get_first_key_match(text, keys=start_keys, regex=regex)\n",
    "    \n",
    "    if start_key_matched:\n",
    "        history_section = extract_section(\n",
    "            text,\n",
    "            start_keys=start_keys,\n",
    "            end_keys=end_keys,\n",
    "            include_start_keys=include_key,\n",
    "            regex=regex,\n",
    "        )\n",
    "    else:\n",
    "        history_section = \"\"\n",
    "        \n",
    "    return history_section\n"
   ]
  }
 ],
 "metadata": {
  "kernelspec": {
   "display_name": "llm-env",
   "language": "python",
   "name": "python3"
  },
  "language_info": {
   "codemirror_mode": {
    "name": "ipython",
    "version": 3
   },
   "file_extension": ".py",
   "mimetype": "text/x-python",
   "name": "python",
   "nbconvert_exporter": "python",
   "pygments_lexer": "ipython3",
   "version": "3.12.2"
  }
 },
 "nbformat": 4,
 "nbformat_minor": 2
}
