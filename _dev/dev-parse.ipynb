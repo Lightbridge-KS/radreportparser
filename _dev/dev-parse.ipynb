{
 "cells": [
  {
   "cell_type": "markdown",
   "metadata": {},
   "source": [
    "# Dev: Parser"
   ]
  },
  {
   "cell_type": "code",
   "execution_count": 1,
   "metadata": {},
   "outputs": [],
   "source": [
    "import sys\n",
    "import os\n",
    "import re\n",
    "from pathlib import Path\n",
    "import pandas as pd\n",
    "from IPython.display import display_markdown, Image\n",
    "\n",
    "sys.path.insert(1, str(Path.cwd().parent)) \n",
    "\n",
    "from report.ex_snip import snip_hx_plain\n",
    "import radreportparser as rrp\n",
    "from radreportparser import RadReportParser, extract_section"
   ]
  },
  {
   "cell_type": "code",
   "execution_count": 3,
   "metadata": {},
   "outputs": [],
   "source": [
    "parser = RadReportParser()"
   ]
  },
  {
   "cell_type": "code",
   "execution_count": 4,
   "metadata": {},
   "outputs": [],
   "source": [
    "# Plain text\n",
    "snip_hx = {\n",
    "    ## Basic\n",
    "    \"basic\": \"\"\"\n",
    "MRI OF THE BRAIN AND ORBITS \n",
    "\n",
    "History: MALT lymphoma at the right orbit S/P chemotherapy was sent to follow-up. \n",
    "\n",
    "Technique: \n",
    "Sagittal SE T1W \n",
    "3D FSE FLAIR FS +Gd with MPR \n",
    "\n",
    "Comparison: Limited comparison to the MRI brain on 4-6-2022 \n",
    "\"\"\", \n",
    "    ## No newline\n",
    "    \"no_newline\": \"\"\"\n",
    "MDCT OF THE NECK   Indication: A 58-year-old man, known case of nasopharyngeal cancer (T4N2M1) with lung metastasis   Technique: Post contrast enhanced axial scan of the neck using 1.0 mm slice thickness with 3.0 mm axial, coronal and sagittal reformation   Comparison: The prior CT of the neck taken on October 4, 2015   Findings:  \tThe current study reveals slight shrinkage but no significant change in extension of the preexisting ill-defined hypodense lesion with partial mild enhancement in some portions, epicenter at the left-sided nasopharynx. Extension of the lesion is described as follow;  ... Superior: No interval change of extension into the left foramen Ovale and left inferior orbital fissure. No significant change of few enhancing foci in the left inferior temporal lobe.  ... Anterior: Involvement of the left infratemporal fossa, left PPF, left retroantral space, and left masticator space. Erosion and sclerotic change of the left pterygoid bone and posterior wall of the left maxillary sinus, unchanged.\n",
    "\"\"\",\n",
    "    ## Markdown\n",
    "    \"markdown\": \"\"\"\n",
    "**EMERGENCY MDCT OF THE BRAIN**\n",
    "\n",
    "**HISTORY:** A 25-year-old female presents with dizziness and brief loss of consciousness following a minor head impact 3 hours ago. Physical examination reveals no focal neurological deficits. The CT scan was requested to rule out intracranial hemorrhage.\n",
    "\n",
    "**TECHNIQUES:** Axial helical scan of the brain was performed using 2.5-mm (brain) and 1.25-mm (bone) slice thickness with coronal and sagittal reconstructions.  \n",
    "\n",
    "**COMPARISON:** None.\n",
    "\"\"\"\n",
    "}"
   ]
  },
  {
   "cell_type": "markdown",
   "metadata": {},
   "source": [
    "## `KeyWord` Enum"
   ]
  },
  {
   "cell_type": "code",
   "execution_count": 4,
   "metadata": {},
   "outputs": [],
   "source": [
    "from enum import Enum\n",
    "\n",
    "class KeyWord(Enum):\n",
    "    HISTORY = [\"history:\", \"\\\\*\\\\*history:\\\\*\\\\*\", \"indication\"]"
   ]
  },
  {
   "cell_type": "code",
   "execution_count": 13,
   "metadata": {},
   "outputs": [
    {
     "data": {
      "text/plain": [
       "['history:', '\\\\*\\\\*history:\\\\*\\\\*', 'indication']"
      ]
     },
     "execution_count": 13,
     "metadata": {},
     "output_type": "execute_result"
    }
   ],
   "source": [
    "KeyWord.HISTORY.value"
   ]
  },
  {
   "cell_type": "code",
   "execution_count": 4,
   "metadata": {},
   "outputs": [
    {
     "data": {
      "text/plain": [
       "['\\\\W*clinical\\\\s+history\\\\W*', '\\\\W*clinical\\\\s+indication(\\\\s?)\\\\W*']"
      ]
     },
     "execution_count": 4,
     "metadata": {},
     "output_type": "execute_result"
    }
   ],
   "source": [
    "hist_key = [\"history\", r\"indication(\\s?)\"]\n",
    "[rf\"\\W*clinical\\s+{hist}\\W*\" for hist in hist_key]\n"
   ]
  },
  {
   "cell_type": "markdown",
   "metadata": {},
   "source": [
    "## Parse History"
   ]
  },
  {
   "cell_type": "code",
   "execution_count": 5,
   "metadata": {},
   "outputs": [
    {
     "ename": "NameError",
     "evalue": "name 'snip_hx' is not defined",
     "output_type": "error",
     "traceback": [
      "\u001b[0;31m---------------------------------------------------------------------------\u001b[0m",
      "\u001b[0;31mNameError\u001b[0m                                 Traceback (most recent call last)",
      "Cell \u001b[0;32mIn[5], line 1\u001b[0m\n\u001b[0;32m----> 1\u001b[0m parser\u001b[38;5;241m.\u001b[39mextract_history(\u001b[43msnip_hx\u001b[49m[\u001b[38;5;124m\"\u001b[39m\u001b[38;5;124mbasic\u001b[39m\u001b[38;5;124m\"\u001b[39m], include_key\u001b[38;5;241m=\u001b[39m\u001b[38;5;28;01mTrue\u001b[39;00m)\n\u001b[1;32m      3\u001b[0m parser\u001b[38;5;241m.\u001b[39mextract_history(snip_hx[\u001b[38;5;124m\"\u001b[39m\u001b[38;5;124mno_newline\u001b[39m\u001b[38;5;124m\"\u001b[39m], include_key\u001b[38;5;241m=\u001b[39m\u001b[38;5;28;01mTrue\u001b[39;00m)\n\u001b[1;32m      6\u001b[0m parser\u001b[38;5;241m.\u001b[39mextract_history(snip_hx[\u001b[38;5;124m\"\u001b[39m\u001b[38;5;124mmarkdown\u001b[39m\u001b[38;5;124m\"\u001b[39m], include_key\u001b[38;5;241m=\u001b[39m\u001b[38;5;28;01mTrue\u001b[39;00m)\n",
      "\u001b[0;31mNameError\u001b[0m: name 'snip_hx' is not defined"
     ]
    }
   ],
   "source": [
    "parser.extract_history(snip_hx[\"basic\"], include_key=True)\n",
    "\n",
    "parser.extract_history(snip_hx[\"no_newline\"], include_key=True)\n",
    "\n",
    "\n",
    "parser.extract_history(snip_hx[\"markdown\"], include_key=True)"
   ]
  },
  {
   "cell_type": "code",
   "execution_count": 11,
   "metadata": {},
   "outputs": [
    {
     "data": {
      "text/plain": [
       "'.\\n\\n**TECHNIQUES:** Axial helical scan of the brain was performed using 2.5-mm (brain) and 1.25-mm (bone) slice thickness with coronal and sagittal reconstructions'"
      ]
     },
     "execution_count": 11,
     "metadata": {},
     "output_type": "execute_result"
    }
   ],
   "source": [
    "parser.extract_technique(snip_hx[\"markdown\"], include_key=True)"
   ]
  }
 ],
 "metadata": {
  "kernelspec": {
   "display_name": "llm-env",
   "language": "python",
   "name": "python3"
  },
  "language_info": {
   "codemirror_mode": {
    "name": "ipython",
    "version": 3
   },
   "file_extension": ".py",
   "mimetype": "text/x-python",
   "name": "python",
   "nbconvert_exporter": "python",
   "pygments_lexer": "ipython3",
   "version": "3.12.2"
  }
 },
 "nbformat": 4,
 "nbformat_minor": 2
}
